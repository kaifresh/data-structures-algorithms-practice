{
 "cells": [
  {
   "cell_type": "markdown",
   "metadata": {},
   "source": [
    "# [Top K numbers in a stream](https://practice.geeksforgeeks.org/problems/top-k-numbers3425/1/)\n",
    "\n",
    "Given N numbers in an array. Your task is to keep at-most K numbers at the top (According to their frequency).  We basically need to print top k numbers when input stream has included k distinct elements, else need to print all distinct elements sorted by frequency.\n",
    "\n",
    "\n",
    "\n",
    "### Example 1:\n",
    "\n",
    "```\n",
    "Input:\n",
    "N=5, K=4\n",
    "arr[] = {5, 2, 1, 3, 2} \n",
    "Output: 5 2 5 1 2 5 1 2 3 5 2 1 3 5 \n",
    "\n",
    "```\n",
    "####  Explanation:\n",
    "Firstly their was 5 whose frequency\n",
    "is max till now. so print 5.\n",
    "Then 2 , which is smaller than 5 but\n",
    "their frequency is same so print 2 5.\n",
    "Then 1, which is smallet among all the\n",
    "number arrived, so print 1 2 5.\n",
    "Then 3 , so print 1 2 3 5\n",
    "Then again 2, which has the highest\n",
    "frequency among all number so 2 1 3 5.\n",
    "\n",
    "### Example 2:\n",
    "```\n",
    "Input:\n",
    "N=5, K=4\n",
    "arr[] = {5, 2, 1, 3, 4} \n",
    "Output: 5 2 5 1 2 5 1 2 3 5 1 2 3 4 \n",
    "```\n",
    "#### Explanation:\n",
    "Firstly their was 5 whose frequency is\n",
    "max till now. so print 5.\n",
    "Then 2 , which is smaller than 5 but\n",
    "their frequency is same so print 2 5.\n",
    "Then 1, Which is smallest among all the\n",
    "number arrived, so print 1 2 5.\n",
    "Then 3 , so print 1 2 3 5.\n",
    "Then 4, so 1 2 3 4 as K is 4 so print\n",
    "at-most k elements.\n",
    " -----\n",
    "\n",
    "Your Task:\n",
    "Since, this is a function problem. You don't need to take any input, as it is already accomplished by the driver code. You just need to complete the function kTop() that takes array a, integer n and integer k as parameters and returns the array that contains our desired output.\n",
    "```"
   ]
  },
  {
   "cell_type": "code",
   "execution_count": 1,
   "metadata": {},
   "outputs": [],
   "source": [
    "import heapq"
   ]
  },
  {
   "cell_type": "code",
   "execution_count": 51,
   "metadata": {},
   "outputs": [],
   "source": [
    "class Solution:\n",
    "    def kTop(self,a, n, k):\n",
    "#         output = \"\"\n",
    "        counter = {}\n",
    "        for elem in a:\n",
    "            if elem not in counter:\n",
    "                counter[elem] = 1\n",
    "            else:\n",
    "                counter[elem] += 1\n",
    "            \n",
    "            # O(N^2) time!\n",
    "            # O(N) space (counter + heap are both N)\n",
    "            \n",
    "\n",
    "            heap = [(-count, elem) for (elem, count) in counter.items()]\n",
    "            heapq.heapify(heap) # heapify runs in O(N)\n",
    "            \n",
    "            k_count = k\n",
    "            while len(heap) > 0 and k_count >= 0:\n",
    "                largest_elem_so_far = heapq.heappop(heap)\n",
    "                print(largest_elem_so_far[1], end='')\n",
    "                print(\" \", end='')\n",
    "#                 output += \"{} \".format(largest_elem_so_far[1])\n",
    "                k_count -= 1\n",
    "        \n",
    "            \n",
    "#             print(heap)\n",
    "#             print(\"-\"*10)        \n",
    "#         return output.strip()"
   ]
  },
  {
   "cell_type": "code",
   "execution_count": 52,
   "metadata": {},
   "outputs": [
    {
     "name": "stdout",
     "output_type": "stream",
     "text": [
      "14 12 14 12 14 15 12 14 15 19 10 12 14 15 19 1 10 12 14 15 19 1 9 10 12 14 15 19 1 9 10 11 12 14 15 19 1 6 9 10 11 12 14 15 19 6 1 9 10 11 12 14 15 19 6 1 4 9 10 11 12 14 15 19 6 1 4 8 9 10 11 12 14 15 19 6 9 1 4 8 10 11 12 14 15 19 6 9 1 4 8 10 11 12 14 15 17 19 6 9 15 1 4 8 10 11 12 14 17 19 6 9 15 1 4 8 10 11 12 14 17 19 20 6 9 15 1 4 8 10 11 12 14 17 18 19 20 6 9 15 1 4 7 8 10 11 12 14 17 18 19 20 6 9 15 17 1 4 7 8 10 11 12 14 18 19 20 6 9 15 17 1 3 4 7 8 10 11 12 14 18 19 20 6 9 15 17 1 3 4 7 8 10 11 12 14 16 18 19 20 15 6 9 17 1 3 4 7 8 10 11 12 14 16 18 19 20 "
     ]
    }
   ],
   "source": [
    "s = Solution()\n",
    "arr = [14, 12, 15, 19, 10, 1, 9, 11, 6, 6, 4, 8, 9, 17, 15, 20, 18, 7, 17, 3, 16, 15]\n",
    "n = len(arr)\n",
    "k = 19\n",
    "s.kTop(arr, n, k)"
   ]
  },
  {
   "cell_type": "code",
   "execution_count": 53,
   "metadata": {},
   "outputs": [
    {
     "name": "stdout",
     "output_type": "stream",
     "text": [
      "5 2 5 1 2 5 1 2 3 5 2 1 3 5 "
     ]
    }
   ],
   "source": [
    "s = Solution()\n",
    "arr = [5, 2, 1, 3, 2]\n",
    "n = len(arr)\n",
    "k = 4\n",
    "s.kTop(arr, n, k)"
   ]
  },
  {
   "cell_type": "code",
   "execution_count": null,
   "metadata": {},
   "outputs": [],
   "source": []
  }
 ],
 "metadata": {
  "kernelspec": {
   "display_name": "Python 3",
   "language": "python",
   "name": "python3"
  },
  "language_info": {
   "codemirror_mode": {
    "name": "ipython",
    "version": 3
   },
   "file_extension": ".py",
   "mimetype": "text/x-python",
   "name": "python",
   "nbconvert_exporter": "python",
   "pygments_lexer": "ipython3",
   "version": "3.9.12"
  }
 },
 "nbformat": 4,
 "nbformat_minor": 4
}
