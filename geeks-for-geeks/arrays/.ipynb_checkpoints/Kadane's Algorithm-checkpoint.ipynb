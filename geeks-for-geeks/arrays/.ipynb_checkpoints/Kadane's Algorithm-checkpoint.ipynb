{
 "cells": [
  {
   "cell_type": "markdown",
   "metadata": {},
   "source": [
    "# Kadane Algorithm\n",
    "\n",
    "https://practice.geeksforgeeks.org/problems/kadanes-algorithm-1587115620/1\n",
    "\n",
    "## Dynamic Programming Explainers\n",
    "\n",
    "https://www.youtube.com/watch?v=vYquumk4nWw&ab_channel=CSDojo"
   ]
  },
  {
   "cell_type": "code",
   "execution_count": 30,
   "metadata": {},
   "outputs": [],
   "source": [
    "# data = [1,2,3,-2,5]\n",
    "\n",
    "arr = [-2, 1, -3, 4, -1, 2, 1, -5, 4] # correct answer is 6"
   ]
  },
  {
   "cell_type": "markdown",
   "metadata": {},
   "source": [
    "# Version 1 using a whole array"
   ]
  },
  {
   "cell_type": "code",
   "execution_count": 31,
   "metadata": {},
   "outputs": [],
   "source": [
    "results = [None] * len(arr)\n",
    "\n",
    "results[0] = arr[0]\n",
    "\n",
    "max_sum = arr[0]\n",
    "\n",
    "for i in range(1, len(arr)):\n",
    "    results[i] = max(arr[i] + results[i - 1], arr[i])\n",
    "    \n",
    "    if results[i] > max_sum:\n",
    "        max_sum = results[i]"
   ]
  },
  {
   "cell_type": "code",
   "execution_count": 32,
   "metadata": {},
   "outputs": [
    {
     "data": {
      "text/plain": [
       "[-2, 1, -2, 4, 3, 5, 6, 1, 5]"
      ]
     },
     "execution_count": 32,
     "metadata": {},
     "output_type": "execute_result"
    }
   ],
   "source": [
    "results"
   ]
  },
  {
   "cell_type": "code",
   "execution_count": 35,
   "metadata": {},
   "outputs": [
    {
     "data": {
      "text/plain": [
       "6"
      ]
     },
     "execution_count": 35,
     "metadata": {},
     "output_type": "execute_result"
    }
   ],
   "source": [
    "max_sum"
   ]
  },
  {
   "cell_type": "markdown",
   "metadata": {},
   "source": [
    "# Version 2 using just a tracker variable"
   ]
  },
  {
   "cell_type": "code",
   "execution_count": 34,
   "metadata": {},
   "outputs": [],
   "source": [
    "last = arr[0]\n",
    "cur = 0\n",
    "max_sum = arr[0]\n",
    "\n",
    "for i in range(1, len(arr)):\n",
    "    cur = max(arr[i] + last, arr[i])\n",
    "    \n",
    "    if cur > max_sum:\n",
    "        max_sum = cur\n",
    "    \n",
    "    last = cur"
   ]
  },
  {
   "cell_type": "code",
   "execution_count": null,
   "metadata": {},
   "outputs": [],
   "source": []
  }
 ],
 "metadata": {
  "kernelspec": {
   "display_name": "Python 3",
   "language": "python",
   "name": "python3"
  },
  "language_info": {
   "codemirror_mode": {
    "name": "ipython",
    "version": 3
   },
   "file_extension": ".py",
   "mimetype": "text/x-python",
   "name": "python",
   "nbconvert_exporter": "python",
   "pygments_lexer": "ipython3",
   "version": "3.9.12"
  }
 },
 "nbformat": 4,
 "nbformat_minor": 4
}
