{
 "cells": [
  {
   "cell_type": "markdown",
   "metadata": {},
   "source": [
    "# [Minimize the Heights II](https://practice.geeksforgeeks.org/problems/minimize-the-heights3351/1)\n",
    "\n",
    "* Given an array `arr[]` denoting heights of `N` towers and a positive integer `K`, you **have to** modify the height of each tower either by increasing or decreasing them by `K` only once. \n",
    "* After modifying, height should be a **non-negative** integer. \n",
    "* **Find out the minimum possible difference of the height of shortest and longest towers after you have modified each tower.**\n",
    "\n",
    "Note: It is compulsory to increase or decrease by K to each tower.\n",
    "\n",
    "\n",
    "https://practice.geeksforgeeks.org/explore?page=1&curated[]=1&sortBy=submissions"
   ]
  },
  {
   "cell_type": "code",
   "execution_count": 2,
   "metadata": {},
   "outputs": [],
   "source": [
    "k = 2\n",
    "n = 4\n",
    "arr = [1, 5, 8, 10]\n",
    "\n",
    "# correct answer: 5\n",
    "# \"\"\" Explanation:\n",
    "# The array can be modified as \n",
    "# {3, 3, 6, 8}. The difference between \n",
    "# the largest and the smallest is 8-3 = 5.\n",
    "# \"\"\"\n",
    "\n",
    "k = 5\n",
    "n = 10\n",
    "arr = [2, 6, 3, 4, 7, 2, 10, 3, 2, 1] # correct answer 7\n",
    "\n"
   ]
  },
  {
   "cell_type": "markdown",
   "metadata": {
    "jupyter": {
     "source_hidden": true
    }
   },
   "source": [
    "# Attempt 1 - probably dumb but....\n",
    "* identify the smallest value\n",
    "* identify the largest value\n",
    "* increment and decrement the smallest and largest values, respectively\n",
    "* compute the difference?"
   ]
  },
  {
   "cell_type": "code",
   "execution_count": 16,
   "metadata": {
    "collapsed": true,
    "jupyter": {
     "outputs_hidden": true,
     "source_hidden": true
    }
   },
   "outputs": [
    {
     "name": "stdout",
     "output_type": "stream",
     "text": [
      "-1\n",
      "[1, 2, 2, 2, 3, 3, 4, 6, 7, 10]\n",
      "(6, 5)\n"
     ]
    }
   ],
   "source": [
    "sorted_arr = sorted(arr)\n",
    "\n",
    "min_val = sorted_arr[0]\n",
    "max_val = sorted_arr[-1]\n",
    "\n",
    "min_val += k\n",
    "max_val -= k\n",
    "\n",
    "min_diff = max_val - min_val\n",
    "\n",
    "# for i in range(len(arr)):\n",
    "print(min_diff)\n",
    "\n",
    "print(sorted_arr)\n",
    "\n",
    "print((min_val, max_val))"
   ]
  },
  {
   "cell_type": "markdown",
   "metadata": {
    "jupyter": {
     "source_hidden": true
    }
   },
   "source": [
    "# Attempt 2 \n",
    "\n",
    "* The addition of k means you have to sort again in case it caused values to cross over?"
   ]
  },
  {
   "cell_type": "code",
   "execution_count": 57,
   "metadata": {
    "collapsed": true,
    "jupyter": {
     "outputs_hidden": true,
     "source_hidden": true
    }
   },
   "outputs": [
    {
     "name": "stdout",
     "output_type": "stream",
     "text": [
      "5 10\n",
      "[2, 6, 3, 4, 7, 2, 10, 3, 2, 1]\n",
      "[1, 2, 2, 2, 3, 3, 4, 6, 7, 10]\n",
      "[6, 7, 7, 7, 8, 8, 9, 1, 2, 5]\n",
      "8\n",
      "[1, 2, 5, 6, 7, 7, 7, 8, 8, 9]\n",
      "(1, 9)\n"
     ]
    }
   ],
   "source": [
    "import math\n",
    "\n",
    "print(k,n)\n",
    "print(arr)\n",
    "sorted_arr = sorted(arr)\n",
    "print(sorted_arr)\n",
    "\n",
    "mid_point = (sorted_arr[-1] - sorted_arr[0]) / 2\n",
    "\n",
    "for i in range(len(sorted_arr)):\n",
    "\n",
    "    if sorted_arr[i] <= mid_point:\n",
    "        sorted_arr[i] += k\n",
    "    elif sorted_arr[i] < k:\n",
    "        sorted_arr[i] += k\n",
    "    else:\n",
    "        sorted_arr[i] -= k\n",
    "        \n",
    "print(sorted_arr)\n",
    "        \n",
    "sorted_arr = sorted(sorted_arr)\n",
    "\n",
    "min_val = sorted_arr[0]\n",
    "max_val = sorted_arr[-1]\n",
    "\n",
    "min_diff = max_val - min_val\n",
    "\n",
    "# for i in range(len(arr)):\n",
    "print(min_diff)\n",
    "\n",
    "print(sorted_arr)\n",
    "\n",
    "print((min_val, max_val))"
   ]
  },
  {
   "cell_type": "markdown",
   "metadata": {},
   "source": [
    "# Attempt 3\n",
    "\n",
    "* Sort"
   ]
  },
  {
   "cell_type": "code",
   "execution_count": 21,
   "metadata": {},
   "outputs": [
    {
     "name": "stdout",
     "output_type": "stream",
     "text": [
      "[1, 2, 2, 2, 3, 3, 4, 6, 7, 10]\n",
      "1 10 9 5.5\n",
      "[6, 7, 7, 7, 8, 8, 9, 1, 2, 5]\n",
      "[1, 2, 5, 6, 7, 7, 7, 8, 8, 9]\n",
      "8\n"
     ]
    }
   ],
   "source": [
    "s = sorted(arr)\n",
    "print(s)\n",
    "\n",
    "min_elem = s[0]\n",
    "max_elem = s[-1]\n",
    "diff = max_elem - min_elem\n",
    "mid_point = min_elem + diff/2\n",
    "\n",
    "print(min_elem, max_elem, diff, mid_point)\n",
    "\n",
    "for i in range(n):\n",
    "    if s[i] < k or s[i] < mid_point:\n",
    "        s[i] += k\n",
    "    else:\n",
    "        s[i] -= k\n",
    "\n",
    "        \n",
    "print(s)\n",
    "\n",
    "ss = sorted(s)\n",
    "\n",
    "min_heights = ss[-1] - ss[0] \n",
    "print(ss)\n",
    "print(min_heights)"
   ]
  },
  {
   "cell_type": "code",
   "execution_count": 11,
   "metadata": {},
   "outputs": [
    {
     "name": "stdout",
     "output_type": "stream",
     "text": [
      "1 10 9 5.5\n"
     ]
    }
   ],
   "source": []
  },
  {
   "cell_type": "code",
   "execution_count": null,
   "metadata": {},
   "outputs": [],
   "source": []
  }
 ],
 "metadata": {
  "kernelspec": {
   "display_name": "Python 3",
   "language": "python",
   "name": "python3"
  },
  "language_info": {
   "codemirror_mode": {
    "name": "ipython",
    "version": 3
   },
   "file_extension": ".py",
   "mimetype": "text/x-python",
   "name": "python",
   "nbconvert_exporter": "python",
   "pygments_lexer": "ipython3",
   "version": "3.9.12"
  }
 },
 "nbformat": 4,
 "nbformat_minor": 4
}
