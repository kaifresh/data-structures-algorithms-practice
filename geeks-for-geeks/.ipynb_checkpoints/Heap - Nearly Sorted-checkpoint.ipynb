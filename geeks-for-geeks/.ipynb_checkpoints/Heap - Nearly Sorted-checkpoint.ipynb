{
 "cells": [
  {
   "cell_type": "code",
   "execution_count": 1,
   "metadata": {},
   "outputs": [],
   "source": [
    "import heapq"
   ]
  },
  {
   "cell_type": "markdown",
   "metadata": {},
   "source": [
    "# [Nearly Sorted](https://practice.geeksforgeeks.org/problems/nearly-sorted-1587115620/1/#)\n",
    "Given an array of n elements, where each element is at most k away from its target position, you need to sort the array optimally.\n",
    "\n",
    "```\n",
    "Example 1:\n",
    "\n",
    "Input:\n",
    "n = 7, k = 3\n",
    "arr[] = {6,5,3,2,8,10,9}\n",
    "Output: 2 3 5 6 8 9 10\n",
    "Explanation: The sorted array will be\n",
    "2 3 5 6 8 9 10\n",
    "Example 2:\n",
    "\n",
    "Input:\n",
    "n = 5, k = 2\n",
    "arr[] = {3,1,4,2,5}\n",
    "Output: 1 2 3 4 5 \n",
    "```\n",
    "Note: DO NOT use STL sort() function for this question."
   ]
  },
  {
   "cell_type": "code",
   "execution_count": 2,
   "metadata": {},
   "outputs": [],
   "source": [
    "\n",
    "class Solution:\n",
    "    \n",
    "    #Function to return the sorted array.\n",
    "    def nearlySorted(self,a,n,k):\n",
    "        \n",
    "        pass"
   ]
  },
  {
   "cell_type": "code",
   "execution_count": 4,
   "metadata": {},
   "outputs": [],
   "source": [
    "s = Solution()\n",
    "n = 7\n",
    "k = 3\n",
    "arr = [6,5,3,2,8,10,9]\n",
    "s.nearlySorted(arr, n, k)"
   ]
  },
  {
   "cell_type": "code",
   "execution_count": null,
   "metadata": {},
   "outputs": [],
   "source": []
  }
 ],
 "metadata": {
  "kernelspec": {
   "display_name": "Python 3",
   "language": "python",
   "name": "python3"
  },
  "language_info": {
   "codemirror_mode": {
    "name": "ipython",
    "version": 3
   },
   "file_extension": ".py",
   "mimetype": "text/x-python",
   "name": "python",
   "nbconvert_exporter": "python",
   "pygments_lexer": "ipython3",
   "version": "3.9.12"
  }
 },
 "nbformat": 4,
 "nbformat_minor": 4
}
