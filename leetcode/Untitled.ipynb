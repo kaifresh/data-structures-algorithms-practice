{
 "cells": [
  {
   "cell_type": "markdown",
   "metadata": {},
   "source": [
    "# [295. Find Median from Data Stream](https://leetcode.com/problems/find-median-from-data-stream/)\n",
    "\n",
    "\n",
    "The median is the middle value in an ordered integer list. If the size of the list is even, there is no middle value and the median is the mean of the two middle values.\n",
    "\n",
    "For example, for `arr = [2,3,4]`, the median is `3`.\n",
    "For example, for `arr = [2,3]`, the median is `(2 + 3) / 2 = 2.5`.\n",
    "Implement the MedianFinder class:\n",
    "\n",
    "MedianFinder() initializes the MedianFinder object.\n",
    "void addNum(int num) adds the integer num from the data stream to the data structure.\n",
    "double findMedian() returns the median of all elements so far. Answers within 10-5 of the actual answer will be accepted.\n",
    " \n",
    "\n",
    "### Example 1:\n",
    "```\n",
    "Input\n",
    "[\"MedianFinder\", \"addNum\", \"addNum\", \"findMedian\", \"addNum\", \"findMedian\"]\n",
    "[[], [1], [2], [], [3], []]\n",
    "Output\n",
    "[null, null, null, 1.5, null, 2.0]\n",
    "\n",
    "Explanation\n",
    "MedianFinder medianFinder = new MedianFinder();\n",
    "medianFinder.addNum(1);    // arr = [1]\n",
    "medianFinder.addNum(2);    // arr = [1, 2]\n",
    "medianFinder.findMedian(); // return 1.5 (i.e., (1 + 2) / 2)\n",
    "medianFinder.addNum(3);    // arr[1, 2, 3]\n",
    "medianFinder.findMedian(); // return 2.0\n",
    " ```\n",
    "\n",
    "Constraints:\n",
    "\n",
    "-105 <= num <= 105\n",
    "There will be at least one element in the data structure before calling findMedian.\n",
    "At most 5 * 104 calls will be made to addNum and findMedian."
   ]
  },
  {
   "cell_type": "code",
   "execution_count": 10,
   "metadata": {},
   "outputs": [],
   "source": [
    "import heapq\n",
    "from IPython.core.interactiveshell import InteractiveShell\n",
    "InteractiveShell.ast_node_interactivity = \"all\""
   ]
  },
  {
   "cell_type": "code",
   "execution_count": 40,
   "metadata": {},
   "outputs": [],
   "source": [
    "class MedianFinder:\n",
    "\n",
    "    def __init__(self):\n",
    "        self.heap = []\n",
    "        self.added_count = 0\n",
    "\n",
    "    def addNum(self, num: int) -> None:\n",
    "        multiplier = -1 if num < 0 else 1\n",
    "        print(\"adding {}\".format((abs(num), multiplier)))\n",
    "        heapq.heappush(self.heap, (abs(num), multiplier))\n",
    "        self.added_count += 1\n",
    "        if self.added_count > 1 and self.added_count % 2 == 1:\n",
    "            removed = heapq.heappop(self.heap)\n",
    "            print(\"removed {}\".format(removed))\n",
    "\n",
    "    def findMedian(self) -> float:\n",
    "        print(\"Find the median value of\", self.heap)\n",
    "        if self.added_count % 2 == 0: # its even\n",
    "            mid_small = heapq.heappop(self.heap)\n",
    "            mid_big = heapq.heappop(self.heap)\n",
    "                    \n",
    "            heapq.heappush(self.heap, mid_small)\n",
    "            heapq.heappush(self.heap, mid_big)\n",
    "            \n",
    "            average = ((mid_small[0] * mid_small[1]) + (mid_big[0] * mid_big[1])) / 2            \n",
    "            \n",
    "            print(\"Even medians = average: {} and {} = {}\".format(\n",
    "                (mid_small[0] * mid_small[1]),\n",
    "                (mid_big[0] * mid_big[1]),               \n",
    "                average\n",
    "            ))\n",
    "            print(\"-\"*10)\n",
    "            \n",
    "            \n",
    "\n",
    "            return average\n",
    "        else:\n",
    "            mid = heapq.heappop(self.heap)\n",
    "            heapq.heappush(self.heap, mid)\n",
    "            print(\"Odd median, just the smallest element: {}\".format(mid[0] * mid[1]))\n",
    "            return mid[0] * mid[1]\n",
    "\n",
    "# 1 push\n",
    "# 1 2 push\n",
    "# 1 2 3 push, pop 1 -> 2, 3\n",
    "# 2 3 4 push, \n",
    "# 2 3 4 5 push, pop 2 -> 3, 4, 5\n",
    "\n",
    "\n",
    "# Your MedianFinder object will be instantiated and called as such:\n",
    "# obj = MedianFinder()\n",
    "# obj.addNum(num)\n",
    "# param_2 = obj.findMedian()"
   ]
  },
  {
   "cell_type": "code",
   "execution_count": 41,
   "metadata": {},
   "outputs": [
    {
     "name": "stdout",
     "output_type": "stream",
     "text": [
      "adding (6, 1)\n",
      "Find the median value of [(6, 1)]\n",
      "Odd median, just the smallest element: 6\n"
     ]
    },
    {
     "data": {
      "text/plain": [
       "6"
      ]
     },
     "execution_count": 41,
     "metadata": {},
     "output_type": "execute_result"
    },
    {
     "name": "stdout",
     "output_type": "stream",
     "text": [
      "adding (10, 1)\n",
      "Find the median value of [(6, 1), (10, 1)]\n",
      "Even medians = average: 6 and 10 = 8.0\n",
      "----------\n"
     ]
    },
    {
     "data": {
      "text/plain": [
       "8.0"
      ]
     },
     "execution_count": 41,
     "metadata": {},
     "output_type": "execute_result"
    },
    {
     "name": "stdout",
     "output_type": "stream",
     "text": [
      "adding (2, 1)\n",
      "removed (2, 1)\n",
      "Find the median value of [(6, 1), (10, 1)]\n",
      "Odd median, just the smallest element: 6\n"
     ]
    },
    {
     "data": {
      "text/plain": [
       "6"
      ]
     },
     "execution_count": 41,
     "metadata": {},
     "output_type": "execute_result"
    },
    {
     "name": "stdout",
     "output_type": "stream",
     "text": [
      "adding (6, 1)\n",
      "Find the median value of [(6, 1), (10, 1), (6, 1)]\n",
      "Even medians = average: 6 and 6 = 6.0\n",
      "----------\n"
     ]
    },
    {
     "data": {
      "text/plain": [
       "6.0"
      ]
     },
     "execution_count": 41,
     "metadata": {},
     "output_type": "execute_result"
    },
    {
     "name": "stdout",
     "output_type": "stream",
     "text": [
      "adding (5, 1)\n",
      "removed (5, 1)\n",
      "Find the median value of [(6, 1), (6, 1), (10, 1)]\n",
      "Odd median, just the smallest element: 6\n"
     ]
    },
    {
     "data": {
      "text/plain": [
       "6"
      ]
     },
     "execution_count": 41,
     "metadata": {},
     "output_type": "execute_result"
    },
    {
     "name": "stdout",
     "output_type": "stream",
     "text": [
      "adding (0, 1)\n",
      "Find the median value of [(0, 1), (6, 1), (6, 1), (10, 1)]\n",
      "Even medians = average: 0 and 6 = 3.0\n",
      "----------\n"
     ]
    },
    {
     "data": {
      "text/plain": [
       "3.0"
      ]
     },
     "execution_count": 41,
     "metadata": {},
     "output_type": "execute_result"
    },
    {
     "name": "stdout",
     "output_type": "stream",
     "text": [
      "adding (6, 1)\n",
      "removed (0, 1)\n",
      "Find the median value of [(6, 1), (6, 1), (6, 1), (10, 1)]\n",
      "Odd median, just the smallest element: 6\n"
     ]
    },
    {
     "data": {
      "text/plain": [
       "6"
      ]
     },
     "execution_count": 41,
     "metadata": {},
     "output_type": "execute_result"
    },
    {
     "name": "stdout",
     "output_type": "stream",
     "text": [
      "adding (3, 1)\n",
      "Find the median value of [(3, 1), (6, 1), (10, 1), (6, 1), (6, 1)]\n",
      "Even medians = average: 3 and 6 = 4.5\n",
      "----------\n"
     ]
    },
    {
     "data": {
      "text/plain": [
       "4.5"
      ]
     },
     "execution_count": 41,
     "metadata": {},
     "output_type": "execute_result"
    },
    {
     "name": "stdout",
     "output_type": "stream",
     "text": [
      "adding (1, 1)\n",
      "removed (1, 1)\n",
      "Find the median value of [(3, 1), (6, 1), (10, 1), (6, 1), (6, 1)]\n",
      "Odd median, just the smallest element: 3\n"
     ]
    },
    {
     "data": {
      "text/plain": [
       "3"
      ]
     },
     "execution_count": 41,
     "metadata": {},
     "output_type": "execute_result"
    },
    {
     "name": "stdout",
     "output_type": "stream",
     "text": [
      "adding (0, 1)\n",
      "Find the median value of [(0, 1), (6, 1), (3, 1), (6, 1), (6, 1), (10, 1)]\n",
      "Even medians = average: 0 and 3 = 1.5\n",
      "----------\n"
     ]
    },
    {
     "data": {
      "text/plain": [
       "1.5"
      ]
     },
     "execution_count": 41,
     "metadata": {},
     "output_type": "execute_result"
    },
    {
     "name": "stdout",
     "output_type": "stream",
     "text": [
      "adding (0, 1)\n",
      "removed (0, 1)\n",
      "Find the median value of [(0, 1), (6, 1), (3, 1), (6, 1), (6, 1), (10, 1)]\n",
      "Odd median, just the smallest element: 0\n"
     ]
    },
    {
     "data": {
      "text/plain": [
       "0"
      ]
     },
     "execution_count": 41,
     "metadata": {},
     "output_type": "execute_result"
    }
   ],
   "source": [
    "medianFinder = MedianFinder()\n",
    "\n",
    "2 5 6 6 10\n",
    "medianFinder.addNum(6)\n",
    "medianFinder.findMedian()\n",
    "medianFinder.addNum(10)\n",
    "medianFinder.findMedian()\n",
    "medianFinder.addNum(2)\n",
    "medianFinder.findMedian()\n",
    "medianFinder.addNum(6)\n",
    "medianFinder.findMedian()\n",
    "medianFinder.addNum(5)\n",
    "\n",
    "medianFinder.findMedian()\n",
    "medianFinder.addNum(0)\n",
    "medianFinder.findMedian()\n",
    "medianFinder.addNum(6)\n",
    "medianFinder.findMedian()\n",
    "medianFinder.addNum(3)\n",
    "medianFinder.findMedian()\n",
    "medianFinder.addNum(1)\n",
    "medianFinder.findMedian()\n",
    "medianFinder.addNum(0)\n",
    "medianFinder.findMedian()\n",
    "medianFinder.addNum(0)\n",
    "medianFinder.findMedian()"
   ]
  },
  {
   "cell_type": "code",
   "execution_count": 27,
   "metadata": {},
   "outputs": [
    {
     "name": "stdout",
     "output_type": "stream",
     "text": [
      "[(1, 1), (2, 1)]\n"
     ]
    },
    {
     "data": {
      "text/plain": [
       "1.5"
      ]
     },
     "execution_count": 27,
     "metadata": {},
     "output_type": "execute_result"
    },
    {
     "name": "stdout",
     "output_type": "stream",
     "text": [
      "[(2, 1), (3, 1)]\n"
     ]
    },
    {
     "data": {
      "text/plain": [
       "2"
      ]
     },
     "execution_count": 27,
     "metadata": {},
     "output_type": "execute_result"
    }
   ],
   "source": [
    "medianFinder = MedianFinder()\n",
    "medianFinder.addNum(1)\n",
    "medianFinder.addNum(2)\n",
    "medianFinder.findMedian()\n",
    "medianFinder.addNum(3)\n",
    "medianFinder.findMedian()"
   ]
  },
  {
   "cell_type": "code",
   "execution_count": 28,
   "metadata": {},
   "outputs": [
    {
     "name": "stdout",
     "output_type": "stream",
     "text": [
      "[(1, -1)]\n"
     ]
    },
    {
     "data": {
      "text/plain": [
       "-1"
      ]
     },
     "execution_count": 28,
     "metadata": {},
     "output_type": "execute_result"
    },
    {
     "name": "stdout",
     "output_type": "stream",
     "text": [
      "[(1, -1), (2, -1)]\n"
     ]
    },
    {
     "data": {
      "text/plain": [
       "-1.5"
      ]
     },
     "execution_count": 28,
     "metadata": {},
     "output_type": "execute_result"
    },
    {
     "name": "stdout",
     "output_type": "stream",
     "text": [
      "[(2, -1), (3, -1)]\n"
     ]
    },
    {
     "data": {
      "text/plain": [
       "-2"
      ]
     },
     "execution_count": 28,
     "metadata": {},
     "output_type": "execute_result"
    },
    {
     "name": "stdout",
     "output_type": "stream",
     "text": [
      "[(2, -1), (3, -1), (4, -1)]\n"
     ]
    },
    {
     "data": {
      "text/plain": [
       "-2.5"
      ]
     },
     "execution_count": 28,
     "metadata": {},
     "output_type": "execute_result"
    },
    {
     "name": "stdout",
     "output_type": "stream",
     "text": [
      "[(3, -1), (4, -1), (5, -1)]\n"
     ]
    },
    {
     "data": {
      "text/plain": [
       "-3"
      ]
     },
     "execution_count": 28,
     "metadata": {},
     "output_type": "execute_result"
    }
   ],
   "source": [
    "medianFinder = MedianFinder()\n",
    "medianFinder.addNum(-1)\n",
    "medianFinder.findMedian()\n",
    "medianFinder.addNum(-2)\n",
    "medianFinder.findMedian()\n",
    "medianFinder.addNum(-3)\n",
    "medianFinder.findMedian()\n",
    "medianFinder.addNum(-4)\n",
    "medianFinder.findMedian()\n",
    "medianFinder.addNum(-5)\n",
    "medianFinder.findMedian()"
   ]
  },
  {
   "cell_type": "code",
   "execution_count": null,
   "metadata": {},
   "outputs": [],
   "source": []
  }
 ],
 "metadata": {
  "kernelspec": {
   "display_name": "Python 3",
   "language": "python",
   "name": "python3"
  },
  "language_info": {
   "codemirror_mode": {
    "name": "ipython",
    "version": 3
   },
   "file_extension": ".py",
   "mimetype": "text/x-python",
   "name": "python",
   "nbconvert_exporter": "python",
   "pygments_lexer": "ipython3",
   "version": "3.9.12"
  }
 },
 "nbformat": 4,
 "nbformat_minor": 4
}
