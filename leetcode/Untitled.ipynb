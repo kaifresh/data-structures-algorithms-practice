{
 "cells": [
  {
   "cell_type": "markdown",
   "metadata": {},
   "source": [
    "Given a list of [FileName, FileSize, [Collection]] - Collection is optional, i.e., a collection can have 1 or more files. Same file can be a part of more than 1 collection.\n",
    "How would you design a system\n",
    "\n",
    "To calculate total size of files processed.\n",
    "To calculate Top K collections based on size.\n",
    "\n",
    "```\n",
    "Example:\n",
    "file1.txt(size: 100)\n",
    "file2.txt(size: 200) in collection \"collection1\"\n",
    "file3.txt(size: 200) in collection \"collection1\"\n",
    "file4.txt(size: 300) in collection \"collection2\"\n",
    "file5.txt(size: 100)\n",
    "Output:\n",
    "\n",
    "Total size of files processed: 900\n",
    "Top 2 collections:\n",
    "- collection1 : 400\n",
    "- collection2 : 300\n",
    "```"
   ]
  },
  {
   "cell_type": "code",
   "execution_count": 60,
   "metadata": {},
   "outputs": [],
   "source": [
    "import re\n",
    "class FileSystem:\n",
    "    def __init__(self, files: str):\n",
    "        parsed = self.parse(files)\n",
    "    \n",
    "    def parse(self, file: str):\n",
    "        relevant_info = []\n",
    "        \n",
    "        for line in file.split('\\n'):\n",
    "            with_coll = re.search('size: (?P<size>\\d+).*?in collection \"(?P<collection>.*)\"', line)\n",
    "            \n",
    "            if result:\n",
    "                print(result.groupdict())\n",
    "                relevant_info.append(result.groupdict())\n",
    "                \n",
    "        return relevant_info\n",
    "            \n",
    "    \n",
    "    def calculate_total_size(self):\n",
    "        pass\n",
    "    \n",
    "    def top_collections_by_size(self):\n",
    "        pass\n",
    "        \n",
    "    "
   ]
  },
  {
   "cell_type": "code",
   "execution_count": 61,
   "metadata": {},
   "outputs": [
    {
     "name": "stdout",
     "output_type": "stream",
     "text": [
      "{'size': '200', 'collection': 'collection1'}\n",
      "{'size': '200', 'collection': 'collection1'}\n",
      "{'size': '300', 'collection': 'collection2'}\n"
     ]
    }
   ],
   "source": [
    "data = \"\"\"\n",
    "file1.txt(size: 100)\n",
    "file2.txt(size: 200) in collection \"collection1\"\n",
    "file3.txt(size: 200) in collection \"collection1\"\n",
    "file4.txt(size: 300) in collection \"collection2\"\n",
    "file5.txt(size: 100)\n",
    "\"\"\"\n",
    "f = FileSystem(data)\n"
   ]
  },
  {
   "cell_type": "code",
   "execution_count": 11,
   "metadata": {},
   "outputs": [
    {
     "name": "stdout",
     "output_type": "stream",
     "text": [
      "\n",
      "file1.txt(size: 100)\n",
      "file2.txt(size: 200) in collection \"collection1\"\n",
      "file3.txt(size: 200) in collection \"collection1\"\n",
      "file4.txt(size: 300) in collection \"collection2\"\n",
      "file5.txt(size: 100)\n",
      "\n"
     ]
    }
   ],
   "source": [
    "f = FileSystem(data)"
   ]
  },
  {
   "cell_type": "code",
   "execution_count": null,
   "metadata": {},
   "outputs": [],
   "source": []
  }
 ],
 "metadata": {
  "kernelspec": {
   "display_name": "Python 3",
   "language": "python",
   "name": "python3"
  },
  "language_info": {
   "codemirror_mode": {
    "name": "ipython",
    "version": 3
   },
   "file_extension": ".py",
   "mimetype": "text/x-python",
   "name": "python",
   "nbconvert_exporter": "python",
   "pygments_lexer": "ipython3",
   "version": "3.9.12"
  }
 },
 "nbformat": 4,
 "nbformat_minor": 4
}
