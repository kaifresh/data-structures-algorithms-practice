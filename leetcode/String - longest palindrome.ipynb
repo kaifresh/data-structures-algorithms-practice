{
 "cells": [
  {
   "cell_type": "markdown",
   "metadata": {},
   "source": [
    "# [Longest Palindrome](https://leetcode.com/problems/longest-palindrome/)\n",
    "\n",
    "balanced counts of odd and even numbers"
   ]
  },
  {
   "cell_type": "code",
   "execution_count": 24,
   "metadata": {},
   "outputs": [],
   "source": [
    "class Solution:\n",
    "    def longestPalindrome(self, s: str) -> int:\n",
    "        counter = {}\n",
    "        for c in s:\n",
    "            if c not in counter:\n",
    "                counter[c] = 1\n",
    "            else:\n",
    "                counter[c] += 1\n",
    "        \n",
    "        if len(counter.keys()) == 1:\n",
    "            return len(s)\n",
    "\n",
    "        total_count = 0\n",
    "        can_use_odd = True\n",
    "        \n",
    "        for (count, key) in sorted([(count, key) for key, count in counter.items()], reverse=True):\n",
    "            is_even = count % 2 == 0\n",
    "            \n",
    "            \n",
    "            if can_use_odd and not is_even:\n",
    "                can_use_odd = False\n",
    "                total_count += count\n",
    "                print(\"odd\", count, key, can_use_odd, total_count)\n",
    "            elif is_even:\n",
    "                total_count += count\n",
    "                print(\"even\", count, count % 2, key, can_use_odd, total_count)           \n",
    "                \n",
    "        return total_count\n",
    "        "
   ]
  },
  {
   "cell_type": "code",
   "execution_count": 25,
   "metadata": {},
   "outputs": [
    {
     "name": "stdout",
     "output_type": "stream",
     "text": [
      "odd 3 a False 3\n",
      "even 2 0 n False 5\n"
     ]
    },
    {
     "data": {
      "text/plain": [
       "5"
      ]
     },
     "execution_count": 25,
     "metadata": {},
     "output_type": "execute_result"
    }
   ],
   "source": [
    "s = Solution()\n",
    "s.longestPalindrome('bananas')"
   ]
  },
  {
   "cell_type": "code",
   "execution_count": 26,
   "metadata": {},
   "outputs": [
    {
     "name": "stdout",
     "output_type": "stream",
     "text": [
      "even 4 0 c True 4\n",
      "even 2 0 d True 6\n",
      "odd 1 b False 7\n"
     ]
    },
    {
     "data": {
      "text/plain": [
       "7"
      ]
     },
     "execution_count": 26,
     "metadata": {},
     "output_type": "execute_result"
    }
   ],
   "source": [
    "s = Solution()\n",
    "s.longestPalindrome('abccccdd')"
   ]
  },
  {
   "cell_type": "code",
   "execution_count": null,
   "metadata": {},
   "outputs": [],
   "source": []
  }
 ],
 "metadata": {
  "kernelspec": {
   "display_name": "Python 3",
   "language": "python",
   "name": "python3"
  },
  "language_info": {
   "codemirror_mode": {
    "name": "ipython",
    "version": 3
   },
   "file_extension": ".py",
   "mimetype": "text/x-python",
   "name": "python",
   "nbconvert_exporter": "python",
   "pygments_lexer": "ipython3",
   "version": "3.9.12"
  }
 },
 "nbformat": 4,
 "nbformat_minor": 4
}
