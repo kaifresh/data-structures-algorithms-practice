{
 "cells": [
  {
   "cell_type": "markdown",
   "metadata": {},
   "source": [
    "# [K Most Frequent Words](https://leetcode.com/problems/top-k-frequent-words/)\n",
    "\n",
    "Given an array of strings words and an integer k, return the k most frequent strings.\n",
    "\n",
    "Return the answer sorted by the frequency from highest to lowest. Sort the words with the same frequency by their lexicographical order."
   ]
  },
  {
   "cell_type": "code",
   "execution_count": 51,
   "metadata": {},
   "outputs": [],
   "source": [
    "import heapq\n",
    "from typing import List\n",
    "\n",
    "class Solution:\n",
    "    def topKFrequent(self, words: List[str], k: int) -> List[str]:\n",
    "        counts = {}\n",
    "        for w in words:\n",
    "            if w not in counts:\n",
    "                counts[w] = 1\n",
    "            else:\n",
    "                counts[w] += 1\n",
    "        \n",
    "        # Needs to be reversed counts so that lexiographical sorting (which is inherently min first)\n",
    "        # pairs well with the numerical sorting\n",
    "        # python tuple sorting is a really cute hack when you need to pair things!\n",
    "        counts_array = [(-count, word) for word, count in counts.items()]\n",
    "                \n",
    "        largest = heapq.nsmallest(k, counts_array)\n",
    "#         print(largest)\n",
    "#         print(sorted(largest))\n",
    "        return [word for count, word in largest]\n",
    "\n",
    "# O(n) space and O(n log(n)) time\n"
   ]
  },
  {
   "cell_type": "code",
   "execution_count": 52,
   "metadata": {},
   "outputs": [
    {
     "name": "stdout",
     "output_type": "stream",
     "text": [
      "[(-4, 'the'), (-3, 'is'), (-2, 'sunny'), (-1, 'day')]\n"
     ]
    },
    {
     "data": {
      "text/plain": [
       "['the', 'is', 'sunny', 'day']"
      ]
     },
     "execution_count": 52,
     "metadata": {},
     "output_type": "execute_result"
    }
   ],
   "source": [
    "s = Solution()\n",
    "s.topKFrequent(\n",
    "    [\"the\",\"day\",\"is\",\"sunny\",\"the\",\"the\",\"the\",\"sunny\",\"is\",\"is\"], \n",
    "    k = 4\n",
    ")"
   ]
  },
  {
   "cell_type": "code",
   "execution_count": 53,
   "metadata": {},
   "outputs": [
    {
     "name": "stdout",
     "output_type": "stream",
     "text": [
      "[(-2, 'i'), (-2, 'love')]\n"
     ]
    },
    {
     "data": {
      "text/plain": [
       "['i', 'love']"
      ]
     },
     "execution_count": 53,
     "metadata": {},
     "output_type": "execute_result"
    }
   ],
   "source": [
    "s = Solution()\n",
    "s.topKFrequent(\n",
    "    [\"i\",\"love\",\"leetcode\",\"i\",\"love\",\"coding\"], 2\n",
    ")"
   ]
  },
  {
   "cell_type": "code",
   "execution_count": null,
   "metadata": {},
   "outputs": [],
   "source": []
  }
 ],
 "metadata": {
  "kernelspec": {
   "display_name": "Python 3",
   "language": "python",
   "name": "python3"
  },
  "language_info": {
   "codemirror_mode": {
    "name": "ipython",
    "version": 3
   },
   "file_extension": ".py",
   "mimetype": "text/x-python",
   "name": "python",
   "nbconvert_exporter": "python",
   "pygments_lexer": "ipython3",
   "version": "3.9.12"
  }
 },
 "nbformat": 4,
 "nbformat_minor": 4
}
