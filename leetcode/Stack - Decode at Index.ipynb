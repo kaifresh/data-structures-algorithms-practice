{
 "cells": [
  {
   "cell_type": "markdown",
   "metadata": {},
   "source": [
    "# [Decoded String at Index](https://leetcode.com/problems/decoded-string-at-index/)\n",
    "\n",
    "You are given an encoded string s. To decode the string to a tape, the encoded string is read one character at a time and the following steps are taken:\n",
    "\n",
    "* If the character read is a letter, that letter is written onto the tape.\n",
    "* If the character read is a digit d, the entire current tape is repeatedly written d - 1 more times in total.\n",
    "\n",
    "\n",
    "Given an integer k, return the kth letter (1-indexed) in the decoded string.\n",
    "\n",
    " \n",
    "\n",
    "```\n",
    "Example 1:\n",
    "\n",
    "Input: s = \"leet2code3\", k = 10\n",
    "Output: \"o\"\n",
    "Explanation: The decoded string is \"leetleetcodeleetleetcodeleetleetcode\".\n",
    "The 10th letter in the string is \"o\".\n",
    "---\n",
    "```\n",
    "```\n",
    "Example 2:\n",
    "\n",
    "Input: s = \"ha22\", k = 5\n",
    "Output: \"h\"\n",
    "Explanation: The decoded string is \"hahahaha\".\n",
    "The 5th letter is \"h\".\n",
    "---\n",
    "```\n",
    "```\n",
    "Example 3:\n",
    "\n",
    "Input: s = \"a2345678999999999999999\", k = 1\n",
    "Output: \"a\"\n",
    "Explanation: The decoded string is \"a\" repeated 8301530446056247680 times.\n",
    "The 1st letter is \"a\".\n",
    "\n",
    "```"
   ]
  },
  {
   "cell_type": "code",
   "execution_count": 41,
   "metadata": {},
   "outputs": [],
   "source": [
    "class Solution:\n",
    "    def decodeAtIndex(self, s: str, k: int) -> str:\n",
    "        output = \"\"\n",
    "        for c in s:\n",
    "            if str.isnumeric(c):\n",
    "                # read the entire current tape repeatedly d - 1 times\n",
    "                repeat_count = int(c) - 1\n",
    "#                 print('repeating \"{}\" - {} times'.format(output, repeat_count))\n",
    "                section_to_repeat = output\n",
    "                for i in range(repeat_count):\n",
    "                    output += section_to_repeat\n",
    "#                     print(\"\\t>\", output)\n",
    "            else:\n",
    "                output += c\n",
    "#             print(output)\n",
    "            if len(output) > k+1:\n",
    "#                 print(\"output was {} long, looking at index k-1: {}\".format(len(output), k-1))\n",
    "                return output[k-1]\n",
    "#         print(output)        \n",
    "        return output[k-1]\n"
   ]
  },
  {
   "cell_type": "code",
   "execution_count": 57,
   "metadata": {},
   "outputs": [],
   "source": [
    "class Solution:\n",
    "    def decodeAtIndex(self, s: str, k: int) -> str:\n",
    "        output = \"\"\n",
    "        section_to_repeat = \"\"\n",
    "        memory = []\n",
    "        length_so_far = 0\n",
    "        for c in s:\n",
    "            if str.isnumeric(c):\n",
    "                print(length_so_far, section_to_repeat, len(section_to_repeat))\n",
    "                length_so_far = (length_so_far + len(section_to_repeat)) * (int(c))\n",
    "                memory.append((section_to_repeat, int(c)))                            \n",
    "                section_to_repeat = \"\"\n",
    "                \n",
    "                if length_so_far > k:\n",
    "                    break\n",
    "\n",
    "            else:\n",
    "                section_to_repeat += c\n",
    "                \n",
    "                \n",
    "        print(memory)\n",
    "        return length_so_far\n"
   ]
  },
  {
   "cell_type": "code",
   "execution_count": 58,
   "metadata": {},
   "outputs": [
    {
     "name": "stdout",
     "output_type": "stream",
     "text": [
      "0 leet 4\n",
      "8 code 4\n",
      "[('leet', 2), ('code', 3)]\n"
     ]
    },
    {
     "data": {
      "text/plain": [
       "36"
      ]
     },
     "execution_count": 58,
     "metadata": {},
     "output_type": "execute_result"
    }
   ],
   "source": [
    "s = Solution()\n",
    "s.decodeAtIndex(\"leet2code3\", 10)"
   ]
  },
  {
   "cell_type": "code",
   "execution_count": 59,
   "metadata": {},
   "outputs": [
    {
     "name": "stdout",
     "output_type": "stream",
     "text": [
      "0 a 1\n",
      "2 b 1\n",
      "9 c 1\n",
      "[('a', 2), ('b', 3), ('c', 4)]\n"
     ]
    },
    {
     "data": {
      "text/plain": [
       "40"
      ]
     },
     "execution_count": 59,
     "metadata": {},
     "output_type": "execute_result"
    }
   ],
   "source": [
    "s = Solution()\n",
    "s.decodeAtIndex(\"a2b3c4d5e6f7g8h9\", 10)\n"
   ]
  },
  {
   "cell_type": "code",
   "execution_count": 42,
   "metadata": {},
   "outputs": [
    {
     "data": {
      "text/plain": [
       "'c'"
      ]
     },
     "execution_count": 42,
     "metadata": {},
     "output_type": "execute_result"
    }
   ],
   "source": [
    "s = Solution()\n",
    "s.decodeAtIndex(\n",
    "    \"czjkk9elaqwiz7s6kgvl4gjixan3ky7jfdg3kyop3husw3fm289thisef8blt7a7zr5v5lhxqpntenvxnmlq7l34ay3jaayikjps\"\n",
    "    , \n",
    "    768077956)\n"
   ]
  },
  {
   "cell_type": "code",
   "execution_count": 20,
   "metadata": {},
   "outputs": [
    {
     "name": "stdout",
     "output_type": "stream",
     "text": [
      "repeating \"ha\" - 1 times\n",
      "repeating \"haha\" - 1 times\n"
     ]
    },
    {
     "data": {
      "text/plain": [
       "'h'"
      ]
     },
     "execution_count": 20,
     "metadata": {},
     "output_type": "execute_result"
    }
   ],
   "source": [
    "s = Solution()\n",
    "s.decodeAtIndex(\"ha22\", 5)"
   ]
  },
  {
   "cell_type": "code",
   "execution_count": 21,
   "metadata": {},
   "outputs": [
    {
     "name": "stdout",
     "output_type": "stream",
     "text": [
      "repeating \"a\" - 1 times\n",
      "repeating \"aa\" - 2 times\n"
     ]
    },
    {
     "data": {
      "text/plain": [
       "'a'"
      ]
     },
     "execution_count": 21,
     "metadata": {},
     "output_type": "execute_result"
    }
   ],
   "source": [
    "s = Solution()\n",
    "s.decodeAtIndex(\"a2345678999999999999999\", 1)"
   ]
  },
  {
   "cell_type": "code",
   "execution_count": null,
   "metadata": {},
   "outputs": [],
   "source": []
  }
 ],
 "metadata": {
  "kernelspec": {
   "display_name": "Python 3",
   "language": "python",
   "name": "python3"
  },
  "language_info": {
   "codemirror_mode": {
    "name": "ipython",
    "version": 3
   },
   "file_extension": ".py",
   "mimetype": "text/x-python",
   "name": "python",
   "nbconvert_exporter": "python",
   "pygments_lexer": "ipython3",
   "version": "3.9.12"
  }
 },
 "nbformat": 4,
 "nbformat_minor": 4
}
