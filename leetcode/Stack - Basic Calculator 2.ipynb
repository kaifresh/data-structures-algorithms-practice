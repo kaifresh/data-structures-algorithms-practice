{
 "cells": [
  {
   "cell_type": "markdown",
   "metadata": {},
   "source": [
    "# Basic Calculator 2\n",
    "\n",
    "Input: s = \"3+2*2\"\n",
    "Output: 7"
   ]
  },
  {
   "cell_type": "code",
   "execution_count": 100,
   "metadata": {},
   "outputs": [],
   "source": [
    "import re\n",
    "\n",
    "class Solution:\n",
    "    def calculate(self, s: str) -> int:\n",
    "        split_string = [x.strip() for x in re.split(r\"\\b\", s) if len(x.strip()) > 0]\n",
    "        stack = []\n",
    "        \n",
    "#         curNumber = None\n",
    "#         nextOp = None\n",
    "#         for c in split_string:\n",
    "#             if c == \"+\":\n",
    "#                 stack.append(curNumber)\n",
    "#             elif c == '-':\n",
    "#                 stack.append(-curNumber)\n",
    "#             elif c == '*' or c == \"/\":\n",
    "#                 nextOp = c\n",
    "#             else:\n",
    "#                 curNumber = int(c)                \n",
    "#             lastNumber = stack.pop()\n",
    "\n",
    "\n",
    "                \n",
    "#         for c in split_string:\n",
    "#             if c == \" \":\n",
    "#                 continue\n",
    "#             stack.append(c)        \n",
    "        \n",
    "#         print(stack)\n",
    "#         while len(stack) > 1:\n",
    "#             print(\"-\" * 10)\n",
    "#             print(stack)\n",
    "#             rh = float(stack.pop())\n",
    "#             op = stack.pop()\n",
    "#             lh = float(stack.pop())\n",
    "            \n",
    "#             # Need to know when to swap?\n",
    "\n",
    "#             result = None\n",
    "#             HOW DO WE IMPLEMENT THE ORDER OF OPERATIONS!??\n",
    "#             if op == \"*\":\n",
    "#                 result = lh * rh\n",
    "#             elif op == \"+\":\n",
    "#                 result = lh + rh\n",
    "#             elif op == '-':\n",
    "#                 result = lh - rh\n",
    "#             elif op == \"/\":\n",
    "#                 result = lh / rh\n",
    "\n",
    "#             stack.append(result)\n",
    "#             print(\"processed: \", lh, op, rh, result)\n",
    "#             print(stack)\n",
    "            \n",
    "#         print(stack)\n",
    "#         return int(stack[0])"
   ]
  },
  {
   "cell_type": "code",
   "execution_count": 98,
   "metadata": {},
   "outputs": [
    {
     "name": "stdout",
     "output_type": "stream",
     "text": [
      "['1', '+', '1', '-', '1']\n",
      "----------\n",
      "['1', '+', '1', '-', '1']\n",
      "processed:  1.0 - 1.0 0.0\n",
      "['1', '+', 0.0]\n",
      "----------\n",
      "['1', '+', 0.0]\n",
      "processed:  1.0 + 0.0 1.0\n",
      "[1.0]\n",
      "[1.0]\n"
     ]
    },
    {
     "data": {
      "text/plain": [
       "1"
      ]
     },
     "execution_count": 98,
     "metadata": {},
     "output_type": "execute_result"
    }
   ],
   "source": [
    "\n",
    "s = Solution()\n",
    "s.calculate(\"1-1+1\")"
   ]
  },
  {
   "cell_type": "code",
   "execution_count": 99,
   "metadata": {},
   "outputs": [
    {
     "name": "stdout",
     "output_type": "stream",
     "text": [
      "['2', '/', '5', '+', '3']\n",
      "----------\n",
      "['2', '/', '5', '+', '3']\n",
      "processed:  5.0 + 3.0 8.0\n",
      "['2', '/', 8.0]\n",
      "----------\n",
      "['2', '/', 8.0]\n",
      "processed:  2.0 / 8.0 0.25\n",
      "[0.25]\n",
      "[0.25]\n"
     ]
    },
    {
     "data": {
      "text/plain": [
       "0"
      ]
     },
     "execution_count": 99,
     "metadata": {},
     "output_type": "execute_result"
    }
   ],
   "source": [
    "s = Solution()\n",
    "s.calculate(\" 3+5 / 2 \")"
   ]
  },
  {
   "cell_type": "code",
   "execution_count": 82,
   "metadata": {},
   "outputs": [
    {
     "name": "stdout",
     "output_type": "stream",
     "text": [
      "['42']\n",
      "['42']\n"
     ]
    },
    {
     "data": {
      "text/plain": [
       "42"
      ]
     },
     "execution_count": 82,
     "metadata": {},
     "output_type": "execute_result"
    }
   ],
   "source": [
    "s = Solution()\n",
    "s.calculate(\"42\")"
   ]
  },
  {
   "cell_type": "code",
   "execution_count": 85,
   "metadata": {},
   "outputs": [
    {
     "name": "stdout",
     "output_type": "stream",
     "text": [
      "['3', '+', '2', '*', '2']\n",
      "----------\n",
      "['3', '+', '2', '*', '2']\n",
      "2.0 * 2.0 4.0\n",
      "['3', '+', 4.0]\n",
      "----------\n",
      "['3', '+', 4.0]\n",
      "3.0 + 4.0 7.0\n",
      "[7.0]\n",
      "[7.0]\n"
     ]
    },
    {
     "data": {
      "text/plain": [
       "7"
      ]
     },
     "execution_count": 85,
     "metadata": {},
     "output_type": "execute_result"
    }
   ],
   "source": [
    "s = Solution()\n",
    "s.calculate(\"3+2*2\")"
   ]
  },
  {
   "cell_type": "code",
   "execution_count": 89,
   "metadata": {},
   "outputs": [
    {
     "name": "stdout",
     "output_type": "stream",
     "text": [
      "['3', '/', '2']\n",
      "----------\n",
      "['3', '/', '2']\n",
      "2.0 / 3.0 0.6666666666666666\n",
      "[0.6666666666666666]\n",
      "[0.6666666666666666]\n"
     ]
    },
    {
     "data": {
      "text/plain": [
       "0"
      ]
     },
     "execution_count": 89,
     "metadata": {},
     "output_type": "execute_result"
    }
   ],
   "source": [
    "s = Solution()\n",
    "\n",
    "s.calculate(\" 3/2 \")"
   ]
  },
  {
   "cell_type": "code",
   "execution_count": 64,
   "metadata": {},
   "outputs": [
    {
     "name": "stdout",
     "output_type": "stream",
     "text": [
      "['42']\n",
      "['42']\n"
     ]
    },
    {
     "data": {
      "text/plain": [
       "42"
      ]
     },
     "execution_count": 64,
     "metadata": {},
     "output_type": "execute_result"
    }
   ],
   "source": [
    "s = Solution()\n",
    "\n",
    "s.calculate(\"42\")"
   ]
  },
  {
   "cell_type": "code",
   "execution_count": null,
   "metadata": {},
   "outputs": [],
   "source": []
  }
 ],
 "metadata": {
  "kernelspec": {
   "display_name": "Python 3",
   "language": "python",
   "name": "python3"
  },
  "language_info": {
   "codemirror_mode": {
    "name": "ipython",
    "version": 3
   },
   "file_extension": ".py",
   "mimetype": "text/x-python",
   "name": "python",
   "nbconvert_exporter": "python",
   "pygments_lexer": "ipython3",
   "version": "3.9.12"
  }
 },
 "nbformat": 4,
 "nbformat_minor": 4
}
