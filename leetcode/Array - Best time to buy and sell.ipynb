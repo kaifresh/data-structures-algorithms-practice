{
 "cells": [
  {
   "cell_type": "markdown",
   "metadata": {},
   "source": [
    "# [Buy and sell](https://leetcode.com/explore/interview/card/top-interview-questions-easy/92/array/564/)\n",
    "You are given an integer array prices where prices[i] is the price of a given stock on the ith day.\n",
    "\n",
    "On each day, you may decide to buy and/or sell the stock. You can only hold at most one share of the stock at any time. However, you can buy it then immediately sell it on the same day.\n",
    "\n",
    "Find and return the maximum profit you can achieve.\n",
    "\n",
    "```\n",
    "Input: prices = [7,1,5,3,6,4]\n",
    "Output: 7\n",
    "Explanation: Buy on day 2 (price = 1) and sell on day 3 (price = 5), profit = 5-1 = 4.\n",
    "Then buy on day 4 (price = 3) and sell on day 5 (price = 6), profit = 6-3 = 3.\n",
    "Total profit is 4 + 3 = 7.\n",
    "\n",
    "```"
   ]
  },
  {
   "cell_type": "code",
   "execution_count": 2,
   "metadata": {},
   "outputs": [],
   "source": [
    "prices = [7,1,5,3,6,4]"
   ]
  },
  {
   "cell_type": "markdown",
   "metadata": {},
   "source": [
    "This feel like an optimisation problem so im going to try and use dynamic programming.\n",
    "\n",
    "The variables/how many variables do i need\n",
    "* position\n",
    "* max value\n",
    "* last best for this number\n",
    "\n",
    "The recurrence\n",
    "* buy or sell\n",
    "\n",
    "\n",
    "how many v"
   ]
  },
  {
   "cell_type": "code",
   "execution_count": 22,
   "metadata": {},
   "outputs": [],
   "source": [
    "from pprint import pprint"
   ]
  },
  {
   "cell_type": "code",
   "execution_count": 51,
   "metadata": {},
   "outputs": [
    {
     "name": "stdout",
     "output_type": "stream",
     "text": [
      "0 0 0\n",
      "0 1 -6\n",
      "0 2 -2\n",
      "0 3 -4\n",
      "0 4 -1\n",
      "0 5 -3\n",
      "1 1 0\n",
      "1 2 4\n",
      "1 3 2\n",
      "1 4 5\n",
      "1 5 3\n",
      "2 2 0\n",
      "2 3 -2\n",
      "2 4 1\n",
      "2 5 -1\n",
      "3 3 0\n",
      "3 4 3\n",
      "3 5 1\n",
      "4 4 0\n",
      "4 5 -2\n",
      "5 5 0\n"
     ]
    }
   ],
   "source": [
    "matrix = []\n",
    "\n",
    "for buy_on_day in range(len(prices)):\n",
    "    matrix.append([])\n",
    "    for sell_on_day in range(buy_on_day, len(prices)):\n",
    "        buy_price = prices[buy_on_day]\n",
    "        sell_price = prices[sell_on_day]\n",
    "        matrix[-1].append([buy_on_day, sell_on_day, sell_price - buy_price])\n",
    "        print(buy_on_day, sell_on_day, sell_price - buy_price)"
   ]
  },
  {
   "cell_type": "code",
   "execution_count": 52,
   "metadata": {},
   "outputs": [
    {
     "name": "stdout",
     "output_type": "stream",
     "text": [
      "[[[0, 0, 0], [0, 1, -6], [0, 2, -2], [0, 3, -4], [0, 4, -1], [0, 5, -3]],\n",
      " [[1, 1, 0], [1, 2, 4], [1, 3, 2], [1, 4, 5], [1, 5, 3]],\n",
      " [[2, 2, 0], [2, 3, -2], [2, 4, 1], [2, 5, -1]],\n",
      " [[3, 3, 0], [3, 4, 3], [3, 5, 1]],\n",
      " [[4, 4, 0], [4, 5, -2]],\n",
      " [[5, 5, 0]]]\n"
     ]
    }
   ],
   "source": [
    "pprint(matrix)"
   ]
  },
  {
   "cell_type": "code",
   "execution_count": 54,
   "metadata": {},
   "outputs": [
    {
     "name": "stdout",
     "output_type": "stream",
     "text": [
      "[[0, 0, 0], [0, 1, -6], [0, 2, -2], [0, 3, -4], [0, 4, -1], [0, 5, -3]]\n",
      "0\n",
      "1\n",
      "2\n",
      "3\n",
      "4\n",
      "5\n",
      "0\n",
      "*\n",
      "[[1, 1, 0], [1, 2, 4], [1, 3, 2], [1, 4, 5], [1, 5, 3]]\n",
      "0\n",
      "1\n",
      "total starting from day 1: 4\n",
      "i updated from 1 to 2\n",
      "2\n",
      "3\n",
      "total starting from day 1: 9\n",
      "i updated from 3 to 4\n",
      "4\n",
      "9\n",
      "*\n",
      "[[2, 2, 0], [2, 3, -2], [2, 4, 1], [2, 5, -1]]\n",
      "0\n",
      "1\n",
      "2\n",
      "total starting from day 2: 1\n",
      "i updated from 2 to 3\n",
      "3\n",
      "10\n",
      "*\n",
      "[[3, 3, 0], [3, 4, 3], [3, 5, 1]]\n",
      "0\n",
      "1\n",
      "total starting from day 3: 3\n",
      "i updated from 1 to 2\n",
      "2\n",
      "13\n",
      "*\n",
      "[[4, 4, 0], [4, 5, -2]]\n",
      "0\n",
      "1\n",
      "13\n",
      "*\n",
      "[[5, 5, 0]]\n",
      "0\n",
      "13\n",
      "*\n"
     ]
    }
   ],
   "source": [
    "global_max = 0\n",
    "\n",
    "for day in range(len(prices)):\n",
    "    day_max = 0\n",
    "    ranges = matrix[day]\n",
    "    \n",
    "    print(ranges)\n",
    "    i = 0\n",
    "    while i < len(ranges):\n",
    "        print(i)\n",
    "        cur_range = ranges[i]\n",
    "            \n",
    "        if cur_range[2] > day_max:\n",
    "            day_max += cur_range[2] # inrease the total\n",
    "            print(\"total starting from day {}: {}\".format(day, day_max))\n",
    "            \n",
    "            next_idx = cur_range[1] + 1 - day\n",
    "            print(\"i updated from {} to {}\".format( i,  next_idx))\n",
    "            i = next_idx\n",
    "\n",
    "             \n",
    "#             if day_max > global_max:\n",
    "#                 global_max = day_max\n",
    "            # update funkily\n",
    "        else:\n",
    "            i += 1\n",
    "        \n",
    "    global_max += day_max    \n",
    "    \n",
    "    \n",
    "    print(global_max)\n",
    "    print(\"*\")"
   ]
  },
  {
   "cell_type": "code",
   "execution_count": 42,
   "metadata": {},
   "outputs": [
    {
     "name": "stdout",
     "output_type": "stream",
     "text": [
      "5\n"
     ]
    }
   ],
   "source": [
    "print(global_max)"
   ]
  },
  {
   "cell_type": "code",
   "execution_count": null,
   "metadata": {},
   "outputs": [],
   "source": []
  }
 ],
 "metadata": {
  "kernelspec": {
   "display_name": "Python 3",
   "language": "python",
   "name": "python3"
  },
  "language_info": {
   "codemirror_mode": {
    "name": "ipython",
    "version": 3
   },
   "file_extension": ".py",
   "mimetype": "text/x-python",
   "name": "python",
   "nbconvert_exporter": "python",
   "pygments_lexer": "ipython3",
   "version": "3.9.12"
  }
 },
 "nbformat": 4,
 "nbformat_minor": 4
}
