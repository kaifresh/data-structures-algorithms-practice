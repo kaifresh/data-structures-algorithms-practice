{
 "cells": [
  {
   "cell_type": "code",
   "execution_count": 2,
   "metadata": {},
   "outputs": [],
   "source": [
    "from typing import List, Optional"
   ]
  },
  {
   "cell_type": "markdown",
   "metadata": {},
   "source": [
    "# [Rotate Array](https://leetcode.com/explore/interview/card/top-interview-questions-easy/92/array/646/)\n",
    "\n",
    "Given an array, rotate the array to the right by k steps, where k is non-negative.\n",
    "\n",
    " \n",
    "```\n",
    "Example 1:\n",
    "\n",
    "Input: nums = [1,2,3,4,5,6,7], k = 3\n",
    "Output: [5,6,7,1,2,3,4]\n",
    "Explanation:\n",
    "rotate 1 steps to the right: [7,1,2,3,4,5,6]\n",
    "rotate 2 steps to the right: [6,7,1,2,3,4,5]\n",
    "rotate 3 steps to the right: [5,6,7,1,2,3,4]\n",
    "```\n",
    "---\n",
    "```\n",
    "Example 2:\n",
    "\n",
    "Input: nums = [-1,-100,3,99], k = 2\n",
    "Output: [3,99,-1,-100]\n",
    "Explanation: \n",
    "rotate 1 steps to the right: [99,-1,-100,3]\n",
    "rotate 2 steps to the right: [3,99,-1,-100]\n",
    "```\n",
    "\n",
    "Constraints:\n",
    "\n",
    "`1 <= nums.length <= 105`\n",
    "`-231 <= nums[i] <= 231 - 1`\n",
    "`0 <= k <= 105`\n",
    " \n",
    "\n",
    "### Follow up:\n",
    "\n",
    "Try to come up with as many solutions as you can. There are at least three different ways to solve this problem.\n",
    "Could you do it in-place with O(1) extra space?"
   ]
  },
  {
   "cell_type": "code",
   "execution_count": 198,
   "metadata": {},
   "outputs": [],
   "source": [
    "class Solution:\n",
    "    def rotate(self, nums: List[int], k: int) -> None:\n",
    "        if k == 0 or len(nums) == 0:\n",
    "            return \n",
    "        \"\"\"\n",
    "        Do not return anything, modify nums in-place instead.\n",
    "        \"\"\"\n",
    "        # Constant variables that let us calcualte our jumps\n",
    "        length = len(nums)\n",
    "        increment = 0\n",
    "\n",
    "        mod_factor = length % k\n",
    "        remainder = length // k\n",
    "        step = 1\n",
    "\n",
    "        print(mod_factor, remainder, length)\n",
    "        print(\"*\" * 100)\n",
    "\n",
    "        need_to_step = (mod_factor == 0 or length % mod_factor == 0)\n",
    "\n",
    "        # initialise variables that change during the loop\n",
    "        idx = 0\n",
    "        tmp = nums[0]\n",
    "\n",
    "        for i in range(length):\n",
    "            if i > 0 and need_to_step and i % remainder == 0:\n",
    "                idx = step\n",
    "                tmp = nums[step] # reset tmp like you do outside the loop\n",
    "                step += 1\n",
    "                print(\"increase step\")\n",
    "\n",
    "            rotation_location = (idx + k) % length\n",
    "\n",
    "            tempB = nums[rotation_location]\n",
    "            nums[rotation_location] = tmp\n",
    "            tmp = tempB\n",
    "        \n",
    "#             if i > 0 and need_to_step and i % remainder == 0:\n",
    "#                 tmp = nums[step]\n",
    "\n",
    "\n",
    "            print(\"{}\\t\\tstoring: {}\".format(nums, tmp))\n",
    "\n",
    "            print(\"[{}]: {} -> {}\\t\\t{}\".format(i, idx, rotation_location, need_to_step and i % remainder))\n",
    "\n",
    "            print(\"-\"*10)\n",
    "\n",
    "            idx = rotation_location"
   ]
  },
  {
   "cell_type": "code",
   "execution_count": 199,
   "metadata": {},
   "outputs": [
    {
     "name": "stdout",
     "output_type": "stream",
     "text": [
      "2 1 6\n",
      "****************************************************************************************************\n",
      "[1, 2, 3, 4, 1, 6]\t\tstoring: 5\n",
      "[0]: 0 -> 4\t\t0\n",
      "----------\n",
      "increase step\n",
      "[1, 2, 3, 4, 1, 2]\t\tstoring: 6\n",
      "[1]: 1 -> 5\t\t0\n",
      "----------\n",
      "increase step\n",
      "[3, 2, 3, 4, 1, 2]\t\tstoring: 1\n",
      "[2]: 2 -> 0\t\t0\n",
      "----------\n",
      "increase step\n",
      "[3, 4, 3, 4, 1, 2]\t\tstoring: 2\n",
      "[3]: 3 -> 1\t\t0\n",
      "----------\n",
      "increase step\n",
      "[3, 4, 1, 4, 1, 2]\t\tstoring: 3\n",
      "[4]: 4 -> 2\t\t0\n",
      "----------\n",
      "increase step\n",
      "[3, 4, 1, 2, 1, 2]\t\tstoring: 4\n",
      "[5]: 5 -> 3\t\t0\n",
      "----------\n",
      "[3, 4, 1, 2, 1, 2]\n",
      "Expected [3,4,5,6,1,2]\n"
     ]
    }
   ],
   "source": [
    "s = Solution()\n",
    "l = [1,2,3,4,5,6]\n",
    "s.rotate(l,4)\n",
    "print(l)\n",
    "print(\"Expected [3,4,5,6,1,2]\")"
   ]
  },
  {
   "cell_type": "code",
   "execution_count": 190,
   "metadata": {},
   "outputs": [
    {
     "name": "stdout",
     "output_type": "stream",
     "text": [
      "1 2 7\n",
      "****************************************************************************************************\n",
      "[1, 2, 3, 1, 5, 6, 7]\t\tstoring: 4\n",
      "[0]: 0 -> 3\t\t0\n",
      "----------\n",
      "[1, 2, 3, 1, 5, 6, 4]\t\tstoring: 7\n",
      "[1]: 3 -> 6\t\t1\n",
      "----------\n",
      "increase step\n",
      "[1, 2, 3, 1, 2, 6, 4]\t\tstoring: 5\n",
      "[2]: 1 -> 4\t\t0\n",
      "----------\n",
      "[5, 2, 3, 1, 2, 6, 4]\t\tstoring: 1\n",
      "[3]: 4 -> 0\t\t1\n",
      "----------\n",
      "increase step\n",
      "[5, 2, 3, 1, 2, 3, 4]\t\tstoring: 6\n",
      "[4]: 2 -> 5\t\t0\n",
      "----------\n",
      "[5, 6, 3, 1, 2, 3, 4]\t\tstoring: 2\n",
      "[5]: 5 -> 1\t\t1\n",
      "----------\n",
      "increase step\n",
      "[5, 6, 3, 1, 2, 3, 1]\t\tstoring: 4\n",
      "[6]: 3 -> 6\t\t0\n",
      "----------\n",
      "[5, 6, 3, 1, 2, 3, 1]\n",
      "Expected [5,6,7,1,2,3,4]\n"
     ]
    }
   ],
   "source": [
    "s = Solution()\n",
    "l = [1,2,3,4,5,6,7]\n",
    "s.rotate(l,3)\n",
    "print(l)\n",
    "print(\"Expected [5,6,7,1,2,3,4]\")"
   ]
  },
  {
   "cell_type": "code",
   "execution_count": 166,
   "metadata": {},
   "outputs": [
    {
     "name": "stdout",
     "output_type": "stream",
     "text": [
      "[-1, -100, 3, 99]\n",
      "[-1, -100, -1, 99]\t\tstoring: 3\n",
      "[0]: 0 -> 2\t\t0\n",
      "----------\n",
      "[3, -100, -1, 99]\t\tstoring: -1\n",
      "[1]: 2 -> 0\t\t1\n",
      "----------\n",
      "increase step\n",
      "[3, -100, -1, -100]\t\tstoring: 99\n",
      "[2]: 1 -> 3\t\t0\n",
      "----------\n",
      "[3, 99, -1, -100]\t\tstoring: -100\n",
      "[3]: 3 -> 1\t\t1\n",
      "----------\n",
      "[3, 99, -1, -100]\n"
     ]
    }
   ],
   "source": [
    "s = Solution()\n",
    "l = [-1,-100,3,99]\n",
    "s.rotate(l,2)\n",
    "print(l)"
   ]
  },
  {
   "cell_type": "code",
   "execution_count": null,
   "metadata": {},
   "outputs": [],
   "source": []
  },
  {
   "cell_type": "code",
   "execution_count": 167,
   "metadata": {},
   "outputs": [
    {
     "data": {
      "text/plain": [
       "[5, 6, 7, 1, 2, 3, 4]"
      ]
     },
     "execution_count": 167,
     "metadata": {},
     "output_type": "execute_result"
    }
   ],
   "source": [
    "nums"
   ]
  },
  {
   "cell_type": "code",
   "execution_count": null,
   "metadata": {},
   "outputs": [],
   "source": []
  }
 ],
 "metadata": {
  "kernelspec": {
   "display_name": "Python 3",
   "language": "python",
   "name": "python3"
  },
  "language_info": {
   "codemirror_mode": {
    "name": "ipython",
    "version": 3
   },
   "file_extension": ".py",
   "mimetype": "text/x-python",
   "name": "python",
   "nbconvert_exporter": "python",
   "pygments_lexer": "ipython3",
   "version": "3.9.12"
  }
 },
 "nbformat": 4,
 "nbformat_minor": 4
}
