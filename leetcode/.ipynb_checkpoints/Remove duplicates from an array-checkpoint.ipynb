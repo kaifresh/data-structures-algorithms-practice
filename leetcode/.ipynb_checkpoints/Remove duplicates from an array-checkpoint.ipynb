{
 "cells": [
  {
   "cell_type": "markdown",
   "metadata": {},
   "source": [
    "# My original solution\n",
    "\n",
    "Not that elegant. Kinda obsessed with data structures here"
   ]
  },
  {
   "cell_type": "code",
   "execution_count": 46,
   "metadata": {},
   "outputs": [],
   "source": [
    "numbers = [0,0,1,1,1,2,2,3,3,4]\n",
    "\n",
    "\n",
    "seen = set()\n",
    "\n",
    "i = 0\n",
    "while i < len(numbers):\n",
    "    num = numbers[i]\n",
    "    if num not in seen:\n",
    "        seen.add(num)\n",
    "        i += 1\n",
    "    else:\n",
    "        del numbers[i]\n",
    "    \n"
   ]
  },
  {
   "cell_type": "code",
   "execution_count": 47,
   "metadata": {},
   "outputs": [
    {
     "data": {
      "text/plain": [
       "[0, 1, 2, 3, 4]"
      ]
     },
     "execution_count": 47,
     "metadata": {},
     "output_type": "execute_result"
    }
   ],
   "source": [
    "numbers"
   ]
  },
  {
   "cell_type": "markdown",
   "metadata": {},
   "source": [
    "# Better solution\n",
    "\n",
    "Just use indexing.\n",
    "\n",
    "You need 3 indexes!! This is a recurring theme:\n",
    "1. Track the current position\n",
    "2. Track the next position\n",
    "3. Track the position we write to\n",
    "\n",
    "\n",
    "We use the first two indexes to track when adjacent numbers change. This works because its a sorted list.\n",
    "\n",
    "We use the third to write a contiguous array of the answer"
   ]
  },
  {
   "cell_type": "code",
   "execution_count": 52,
   "metadata": {},
   "outputs": [
    {
     "data": {
      "text/plain": [
       "5"
      ]
     },
     "execution_count": 52,
     "metadata": {},
     "output_type": "execute_result"
    }
   ],
   "source": [
    "numbers = [0,0,1,1,1,2,2,3,3,4]\n",
    "\n",
    "\n",
    "cur = 0 \n",
    "nxt = 1\n",
    "where_we_write_to = 1\n",
    "\n",
    "while nxt < len(numbers):\n",
    "    if numbers[cur] != numbers[nxt]:\n",
    "        numbers[where_we_write_to] = numbers[nxt]\n",
    "        where_we_write_to += 1\n",
    "    nxt += 1\n",
    "    cur += 1\n",
    "\n",
    "# return where_we_write_to\n",
    "numbers\n",
    "where_we_write_to"
   ]
  },
  {
   "cell_type": "code",
   "execution_count": 51,
   "metadata": {},
   "outputs": [
    {
     "data": {
      "text/plain": [
       "[0, 1, 2, 3, 4, 2, 2, 3, 3, 4]"
      ]
     },
     "execution_count": 51,
     "metadata": {},
     "output_type": "execute_result"
    }
   ],
   "source": []
  },
  {
   "cell_type": "code",
   "execution_count": null,
   "metadata": {},
   "outputs": [],
   "source": []
  }
 ],
 "metadata": {
  "kernelspec": {
   "display_name": "Python 3",
   "language": "python",
   "name": "python3"
  },
  "language_info": {
   "codemirror_mode": {
    "name": "ipython",
    "version": 3
   },
   "file_extension": ".py",
   "mimetype": "text/x-python",
   "name": "python",
   "nbconvert_exporter": "python",
   "pygments_lexer": "ipython3",
   "version": "3.9.12"
  }
 },
 "nbformat": 4,
 "nbformat_minor": 4
}
