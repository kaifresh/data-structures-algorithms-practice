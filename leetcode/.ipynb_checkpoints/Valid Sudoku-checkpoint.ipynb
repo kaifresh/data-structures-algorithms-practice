{
 "cells": [
  {
   "cell_type": "markdown",
   "metadata": {},
   "source": [
    "# [Valid Sudoku](https://leetcode.com/problems/valid-sudoku/)\n",
    "\n",
    "Determine if a 9 x 9 Sudoku board is valid. Only the filled cells need to be validated according to the following rules:\n",
    "\n",
    "Each row must contain the digits 1-9 without repetition.\n",
    "Each column must contain the digits 1-9 without repetition.\n",
    "Each of the nine 3 x 3 sub-boxes of the grid must contain the digits 1-9 without repetition.\n",
    "Note:\n",
    "\n",
    "A Sudoku board (partially filled) could be valid but is not necessarily solvable.\n",
    "Only the filled cells need to be validated according to the mentioned rules.\n"
   ]
  },
  {
   "cell_type": "code",
   "execution_count": 9,
   "metadata": {},
   "outputs": [],
   "source": [
    "from typing import List\n",
    "from collections import Counter"
   ]
  },
  {
   "cell_type": "code",
   "execution_count": 31,
   "metadata": {},
   "outputs": [],
   "source": [
    "class Solution:\n",
    "    def isValidSudoku(self, board: List[List[str]]) -> bool:\n",
    "        print(board)\n",
    "        \n",
    "        # Check valid rows\n",
    "        for row in board:\n",
    "            row = [c for c in row if c.isnumeric()]\n",
    "            value_count = Counter(row)\n",
    "            for value, count in value_count.items():\n",
    "                if count > 1:\n",
    "                    return False\n",
    "                \n",
    "        # Check valid columns\n",
    "        for col in range(9):\n",
    "            vertical_col = []\n",
    "            for row in range(9):\n",
    "                if board[row][col].isnumeric():\n",
    "                    vertical_col.append(board[row][col])\n",
    "            col_counts = Counter(vertical_col)\n",
    "            for value, count in col_counts.items():\n",
    "                if count > 1:\n",
    "                    return False\n",
    "                \n",
    "    \n",
    "    \n",
    "        # Check for valid 3 x 3\n",
    "        for row in range(3):\n",
    "            for col in range(3):\n",
    "                box_data = []\n",
    "                for box_cell in range(9):\n",
    "                    cell_row = (box_cell % 3) + (row * 3)\n",
    "                    cell_col = (box_cell // 3) + (col * 3)\n",
    "                    if board[cell_row][cell_col].isnumeric():\n",
    "                        box_data.append(board[cell_row][cell_col])\n",
    "                        \n",
    "                box_counts = Counter(box_data)\n",
    "                for value, count in box_counts.items():\n",
    "                    if count > 1:\n",
    "                        return False\n",
    "            \n",
    "        return True\n",
    "        \n",
    "        \n",
    "#                 print((value, count))\n",
    "#             print(value_count)\n",
    "            \n",
    "                \n",
    "            \n",
    "        "
   ]
  },
  {
   "cell_type": "code",
   "execution_count": 32,
   "metadata": {},
   "outputs": [
    {
     "name": "stdout",
     "output_type": "stream",
     "text": [
      "[['5', '3', '.', '.', '7', '.', '.', '.', '.'], ['6', '.', '.', '1', '9', '5', '.', '.', '.'], ['.', '9', '8', '.', '.', '.', '.', '6', '.'], ['8', '.', '.', '.', '6', '.', '.', '.', '3'], ['4', '.', '.', '8', '.', '3', '.', '.', '1'], ['7', '.', '.', '.', '2', '.', '.', '.', '6'], ['.', '6', '.', '.', '.', '.', '2', '8', '.'], ['.', '.', '.', '4', '1', '9', '.', '.', '5'], ['.', '.', '.', '.', '8', '.', '.', '7', '9']]\n",
      "Counter({'5': 1, '6': 1, '3': 1, '9': 1, '8': 1})\n",
      "Counter({'1': 1, '7': 1, '9': 1, '5': 1})\n",
      "Counter({'6': 1})\n",
      "Counter({'8': 1, '4': 1, '7': 1})\n",
      "Counter({'8': 1, '6': 1, '2': 1, '3': 1})\n",
      "Counter({'3': 1, '1': 1, '6': 1})\n",
      "Counter({'6': 1})\n",
      "Counter({'4': 1, '1': 1, '8': 1, '9': 1})\n",
      "Counter({'2': 1, '8': 1, '7': 1, '5': 1, '9': 1})\n"
     ]
    }
   ],
   "source": [
    "d = [[\"5\",\"3\",\".\",\".\",\"7\",\".\",\".\",\".\",\".\"],[\"6\",\".\",\".\",\"1\",\"9\",\"5\",\".\",\".\",\".\"],[\".\",\"9\",\"8\",\".\",\".\",\".\",\".\",\"6\",\".\"],[\"8\",\".\",\".\",\".\",\"6\",\".\",\".\",\".\",\"3\"],[\"4\",\".\",\".\",\"8\",\".\",\"3\",\".\",\".\",\"1\"],[\"7\",\".\",\".\",\".\",\"2\",\".\",\".\",\".\",\"6\"],[\".\",\"6\",\".\",\".\",\".\",\".\",\"2\",\"8\",\".\"],[\".\",\".\",\".\",\"4\",\"1\",\"9\",\".\",\".\",\"5\"],[\".\",\".\",\".\",\".\",\"8\",\".\",\".\",\"7\",\"9\"]]\n",
    "s = Solution()\n",
    "s.isValidSudoku(d)"
   ]
  },
  {
   "cell_type": "code",
   "execution_count": null,
   "metadata": {},
   "outputs": [],
   "source": []
  }
 ],
 "metadata": {
  "kernelspec": {
   "display_name": "Python 3",
   "language": "python",
   "name": "python3"
  },
  "language_info": {
   "codemirror_mode": {
    "name": "ipython",
    "version": 3
   },
   "file_extension": ".py",
   "mimetype": "text/x-python",
   "name": "python",
   "nbconvert_exporter": "python",
   "pygments_lexer": "ipython3",
   "version": "3.9.12"
  }
 },
 "nbformat": 4,
 "nbformat_minor": 4
}
