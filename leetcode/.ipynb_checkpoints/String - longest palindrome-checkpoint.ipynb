{
 "cells": [
  {
   "cell_type": "markdown",
   "metadata": {},
   "source": [
    "# [Longest Palindrome](https://leetcode.com/problems/longest-palindrome/)"
   ]
  },
  {
   "cell_type": "code",
   "execution_count": 9,
   "metadata": {},
   "outputs": [],
   "source": [
    "class Solution:\n",
    "    def longestPalindrome(self, s: str) -> int:\n",
    "        counter = {}\n",
    "        for c in s:\n",
    "            if c not in counter:\n",
    "                counter[c] = 1\n",
    "            else:\n",
    "                counter[c] += 1\n",
    "        \n",
    "        if len(counter.keys()) == 1:\n",
    "            return len(s)\n",
    "\n",
    "        total_count = 0\n",
    "        even_count = 0\n",
    "        odd = []\n",
    "        \n",
    "        for (count, key) in sorted([(count, key) for key, count in counter.items()], reverse=True):\n",
    "            is_even = count % 2 == 0\n",
    "            \n",
    "            if is_even:\n",
    "                total_count += count\n",
    "                even_count += 1\n",
    "            else:\n",
    "                odd.append(count)\n",
    "                \n",
    "        for i in range(min(len(odd), even_count)):\n",
    "            total_count += odd[i]\n",
    "            \n",
    "#         was_even = None\n",
    "#         is_even = False\n",
    "#         for i, (count, key) in enumerate(sorted_counts):\n",
    "#             is_even = count % 2 == 0\n",
    "#             print(count, key, is_even)\n",
    "#             if i == 0:\n",
    "#                 total_count += count\n",
    "#             elif is_even:\n",
    "#                 total_count += count\n",
    "#                 was_even = True\n",
    "#             elif was_even:\n",
    "#                 total_count += count\n",
    "#                 was_even = False\n",
    "                \n",
    "        return total_count\n",
    "        "
   ]
  },
  {
   "cell_type": "code",
   "execution_count": 10,
   "metadata": {},
   "outputs": [
    {
     "data": {
      "text/plain": [
       "5"
      ]
     },
     "execution_count": 10,
     "metadata": {},
     "output_type": "execute_result"
    }
   ],
   "source": [
    "s = Solution()\n",
    "s.longestPalindrome('bananas')"
   ]
  },
  {
   "cell_type": "code",
   "execution_count": null,
   "metadata": {},
   "outputs": [],
   "source": []
  }
 ],
 "metadata": {
  "kernelspec": {
   "display_name": "Python 3",
   "language": "python",
   "name": "python3"
  },
  "language_info": {
   "codemirror_mode": {
    "name": "ipython",
    "version": 3
   },
   "file_extension": ".py",
   "mimetype": "text/x-python",
   "name": "python",
   "nbconvert_exporter": "python",
   "pygments_lexer": "ipython3",
   "version": "3.9.12"
  }
 },
 "nbformat": 4,
 "nbformat_minor": 4
}
