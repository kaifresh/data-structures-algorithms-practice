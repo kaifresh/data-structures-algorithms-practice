{
 "cells": [
  {
   "cell_type": "markdown",
   "metadata": {},
   "source": [
    "# [438. Find All Anagrams in a String](https://leetcode.com/problems/find-all-anagrams-in-a-string/)\n",
    "\n",
    "Given two strings s and p, return an array of all the start indices of p's anagrams in s. You may return the answer in any order.\n",
    "\n",
    "An Anagram is a word or phrase formed by rearranging the letters of a different word or phrase, typically using all the original letters exactly once.\n",
    "\n",
    " \n",
    "```\n",
    "Example 1:\n",
    "\n",
    "Input: s = \"cbaebabacd\", p = \"abc\"\n",
    "Output: [0,6]\n",
    "Explanation:\n",
    "The substring with start index = 0 is \"cba\", which is an anagram of \"abc\".\n",
    "The substring with start index = 6 is \"bac\", which is an anagram of \"abc\".\n",
    "Example 2:\n",
    "\n",
    "Input: s = \"abab\", p = \"ab\"\n",
    "Output: [0,1,2]\n",
    "Explanation:\n",
    "The substring with start index = 0 is \"ab\", which is an anagram of \"ab\".\n",
    "The substring with start index = 1 is \"ba\", which is an anagram of \"ab\".\n",
    "The substring with start index = 2 is \"ab\", which is an anagram of \"ab\".\n",
    " ```\n",
    "\n",
    "Constraints:\n",
    "\n",
    "1 <= s.length, p.length <= 3 * 104\n",
    "s and p consist of lowercase English letters.\n"
   ]
  },
  {
   "cell_type": "code",
   "execution_count": 2,
   "metadata": {},
   "outputs": [],
   "source": [
    "from typing import List\n",
    "from collections import Counter"
   ]
  },
  {
   "cell_type": "code",
   "execution_count": 35,
   "metadata": {},
   "outputs": [],
   "source": [
    "class Solution:\n",
    "    def findAnagrams(self, s: str, p: str) -> List[int]:\n",
    "        found = []\n",
    "        p_counts = Counter(p)\n",
    "        \n",
    "        i = 0\n",
    "        while i < len(s)-(len(p)-1):            \n",
    "            end_i = i + len(p)\n",
    "            segment = s[i:end_i]\n",
    "            print(\"[{}]: {}\".format(i, segment))\n",
    "            \n",
    "            segment_counts = Counter(segment)\n",
    "            \n",
    "#             print(segment_counts)\n",
    "            if segment_counts == p_counts:\n",
    "                found.append(i)\n",
    "                \n",
    "            intersection = segment_counts & p_counts\n",
    "            num_intersecting = sum(intersection.values())\n",
    "            print(intersection, num_intersecting)\n",
    "            \n",
    "            jump_val = max(1, len(p) - num_intersecting)\n",
    "            print(\"increase i by \", jump_val)\n",
    "            \n",
    "            i += jump_val\n",
    "#         print(found)        \n",
    "        return found\n",
    "\n",
    "        \n",
    "            "
   ]
  },
  {
   "cell_type": "code",
   "execution_count": 132,
   "metadata": {},
   "outputs": [],
   "source": [
    "class Solution:\n",
    "    def findAnagrams(self, s: str, p: str) -> List[int]:\n",
    "        found = []        \n",
    "        i = 0\n",
    "        \n",
    "        p_counts = Counter(p)\n",
    "\n",
    "        while i < len(s)-(len(p)-1):\n",
    "            print(\"-\"*10)\n",
    "            j = 0\n",
    "            curIdx = i\n",
    "            while j < len(p):\n",
    "                curIdx = i + j\n",
    "                curLetter = s[curIdx]\n",
    "                print(s[curIdx], curIdx, i, j)\n",
    "                if curLetter not in p_counts:\n",
    "                    print(\"[{}]: {} was not in p. SKipping i ahead by {}\".format(curIdx, curLetter, j))            \n",
    "                    i += j\n",
    "                    break              \n",
    "                j += 1\n",
    "\n",
    "            print(\"Finished scanning. i: {}. i_end: {} j: {}.\\t{}\".format(i, curIdx, j, len(p)))                \n",
    "            \n",
    "            \n",
    "#             if j == len(p) - 1:\n",
    "#                 s_counts = Counter(s[i:(i+j)])\n",
    "\n",
    "\n",
    "#                 print(\"DIFF\", s_counts - p_counts)\n",
    "            \n",
    "# #             if len([count for letter, count  in p_counts.items() if count == 0]) == len(p):\n",
    "# #                 print(\"FOUND AN ANAGRAM!\", i, j, s[i:j])\n",
    "# #                 found.append(i)\n",
    "            i += 1\n",
    "            \n",
    "        return found\n",
    "\n",
    "        \n",
    "            "
   ]
  },
  {
   "cell_type": "code",
   "execution_count": 223,
   "metadata": {},
   "outputs": [],
   "source": [
    "class Solution:\n",
    "    def findAnagrams(self, s: str, p: str) -> List[int]:\n",
    "        \n",
    "        res = []\n",
    "        pCounter = Counter(p)\n",
    "        n = len(p)\n",
    "        sCounter = Counter(s[:n-1]) # Make the window 1 less than the length of p to start, so that it's consistent with the iteration logic\n",
    "        \n",
    "        for i in range(len(s)-n+1):\n",
    "            # Slide the front forward\n",
    "            sCounter[s[i+n-1]] += 1   # include a new char in the window\n",
    "            \n",
    "            # Check\n",
    "            if sCounter == pCounter:    # This step is O(1), since there are at most 26 English letters \n",
    "                res.append(i)   # append the starting index\n",
    "                \n",
    "            # Slide the back forward    \n",
    "            sCounter[s[i]] -= 1   # decrease the count of oldest char in the window\n",
    "            if sCounter[s[i]] == 0:\n",
    "                del sCounter[s[i]]   # remove the count if it is 0\n",
    "        return res"
   ]
  },
  {
   "cell_type": "code",
   "execution_count": 224,
   "metadata": {},
   "outputs": [
    {
     "data": {
      "text/plain": [
       "[1]"
      ]
     },
     "execution_count": 224,
     "metadata": {},
     "output_type": "execute_result"
    }
   ],
   "source": [
    "s = Solution()\n",
    "target = \"baa\"\n",
    "p = \"aa\"\n",
    "s.findAnagrams(target, p)"
   ]
  },
  {
   "cell_type": "code",
   "execution_count": 225,
   "metadata": {},
   "outputs": [
    {
     "data": {
      "text/plain": [
       "[0, 6]"
      ]
     },
     "execution_count": 225,
     "metadata": {},
     "output_type": "execute_result"
    }
   ],
   "source": [
    "s = Solution()\n",
    "target = \"cbaebabacd\"\n",
    "p = \"abc\"\n",
    "s.findAnagrams(target, p)"
   ]
  },
  {
   "cell_type": "code",
   "execution_count": 226,
   "metadata": {},
   "outputs": [
    {
     "data": {
      "text/plain": [
       "[0, 1, 2]"
      ]
     },
     "execution_count": 226,
     "metadata": {},
     "output_type": "execute_result"
    }
   ],
   "source": [
    "s = Solution()\n",
    "target = \"abab\"\n",
    "p = \"ab\"\n",
    "s.findAnagrams(target, p)"
   ]
  },
  {
   "cell_type": "code",
   "execution_count": null,
   "metadata": {},
   "outputs": [],
   "source": []
  }
 ],
 "metadata": {
  "kernelspec": {
   "display_name": "Python 3",
   "language": "python",
   "name": "python3"
  },
  "language_info": {
   "codemirror_mode": {
    "name": "ipython",
    "version": 3
   },
   "file_extension": ".py",
   "mimetype": "text/x-python",
   "name": "python",
   "nbconvert_exporter": "python",
   "pygments_lexer": "ipython3",
   "version": "3.9.12"
  }
 },
 "nbformat": 4,
 "nbformat_minor": 4
}
