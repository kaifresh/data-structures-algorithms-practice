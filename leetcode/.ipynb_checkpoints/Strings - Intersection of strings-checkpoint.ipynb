{
 "cells": [
  {
   "cell_type": "markdown",
   "metadata": {},
   "source": [
    "# [Intersection of Two Arrays II](https://leetcode.com/explore/interview/card/top-interview-questions-easy/92/array/674/)\n",
    "\n",
    "\n",
    "\n",
    "Given two integer arrays nums1 and nums2, return an array of their intersection. Each element in the result must appear as many times as it shows in both arrays and you may return the result in any order.\n",
    "\n",
    "----\n",
    "```\n",
    "Input: nums1 = [1,2,2,1], nums2 = [2,2]\n",
    "Output: [2,2]\n",
    "```\n",
    "\n",
    "----\n",
    "```\n",
    "Input: nums1 = [4,9,5], nums2 = [9,4,9,8,4]\n",
    "Output: [4,9]\n",
    "Explanation: [9,4] is also accepted.\n",
    "```\n"
   ]
  },
  {
   "cell_type": "code",
   "execution_count": 5,
   "metadata": {},
   "outputs": [],
   "source": [
    "from typing import List"
   ]
  },
  {
   "cell_type": "markdown",
   "metadata": {},
   "source": [
    "### This approach works!\n",
    "\n",
    "What we did here was ask *What do they have in common*\n",
    "\n",
    "The answer was using the values at each array location as INDEXES IN A COMMON COUNTER ARRAY"
   ]
  },
  {
   "cell_type": "code",
   "execution_count": 74,
   "metadata": {},
   "outputs": [],
   "source": [
    "def intersect(nums1: List[int], nums2: List[int]) -> List[int]:\n",
    "    total_numbers = max(max(nums1), max(nums2)) + 1\n",
    "    counts1 = [0] * total_numbers\n",
    "    counts2 = [0] * total_numbers\n",
    "    \n",
    "    for i in range(len(nums1)):\n",
    "        idx = nums1[i]\n",
    "        counts1[idx] += 1\n",
    "        \n",
    "    for i in range(len(nums2)):\n",
    "        idx = nums2[i]\n",
    "        counts2[idx] += 1\n",
    "    \n",
    "    intersection = []\n",
    "    for i in range(len(counts1)):\n",
    "        if counts1[i] > 0 and counts2[i] > 0:\n",
    "            less = min(counts1[i], counts2[i])\n",
    "            for j in range(less):\n",
    "                intersection.append(i)\n",
    "            \n",
    "    return intersection"
   ]
  },
  {
   "cell_type": "code",
   "execution_count": 75,
   "metadata": {},
   "outputs": [
    {
     "name": "stdout",
     "output_type": "stream",
     "text": [
      "[0, 4, 5, 6, 7, 34, 38, 44, 45, 57, 61, 77, 79, 85, 88, 89, 92]\n"
     ]
    }
   ],
   "source": [
    "nums1 = [61,24,20,58,95,53,17,32,45,85,70,20,83,62,35,89,5,95,12,86,58,77,30,64,46,13,5,92,67,40,20,38,31,18,89,85,7,30,67,34,62,35,47,98,3,41,53,26,66,40,54,44,57,46,70,60,4,63,82,42,65,59,17,98,29,72,1,96,82,66,98,6,92,31,43,81,88,60,10,55,66,82,0,79,11,81]\n",
    "nums2 = [5,25,4,39,57,49,93,79,7,8,49,89,2,7,73,88,45,15,34,92,84,38,85,34,16,6,99,0,2,36,68,52,73,50,77,44,61,48]\n",
    "result = intersect(nums1, nums2)\n",
    "print(result)"
   ]
  },
  {
   "cell_type": "code",
   "execution_count": 48,
   "metadata": {},
   "outputs": [
    {
     "name": "stdout",
     "output_type": "stream",
     "text": [
      "[1, 2]\n"
     ]
    }
   ],
   "source": [
    "nums1 = [2,1] \n",
    "nums2 = [1,2]\n",
    "result = intersect(nums1, nums2)\n",
    "print(result)"
   ]
  },
  {
   "cell_type": "code",
   "execution_count": 49,
   "metadata": {},
   "outputs": [
    {
     "name": "stdout",
     "output_type": "stream",
     "text": [
      "[1]\n"
     ]
    }
   ],
   "source": [
    "nums1 = [1,1] \n",
    "nums2 = [1,2]\n",
    "result = intersect(nums1, nums2)\n",
    "print(result)"
   ]
  },
  {
   "cell_type": "code",
   "execution_count": 50,
   "metadata": {},
   "outputs": [
    {
     "name": "stdout",
     "output_type": "stream",
     "text": [
      "[4, 9]\n"
     ]
    }
   ],
   "source": [
    "nums1 = [4,9,5] \n",
    "nums2 = [9,4,9,8,4]\n",
    "result = intersect(nums1, nums2)\n",
    "print(result)"
   ]
  },
  {
   "cell_type": "markdown",
   "metadata": {},
   "source": [
    "# Other faster approaches\n",
    " \n",
    "* using the `collections.Counter` object to optimise what's going on here\n",
    "* using a dictionary & a set"
   ]
  },
  {
   "cell_type": "code",
   "execution_count": 76,
   "metadata": {},
   "outputs": [],
   "source": [
    "\n",
    "class Solution:\n",
    "    def intersect(self, nums1: List[int], nums2: List[int]) -> List[int]:\n",
    "        count_dict = {}\n",
    "        for num in nums1:\n",
    "            if num in count_dict:\n",
    "                count_dict[num] += 1\n",
    "            else:\n",
    "                count_dict[num] = 1\n",
    "        new_arr = []\n",
    "        for num in nums2:\n",
    "            if num in count_dict and count_dict[num] > 0:\n",
    "                new_arr.append(num)\n",
    "                count_dict[num] -= 1\n",
    "        return new_arr\n",
    "        "
   ]
  },
  {
   "cell_type": "code",
   "execution_count": 77,
   "metadata": {},
   "outputs": [],
   "source": [
    "from collections import Counter\n",
    "class Solution:\n",
    "    def intersect(self, nums1: List[int], nums2: List[int]) -> List[int]:\n",
    "        result = []\n",
    "        cnt = Counter(nums1)\n",
    "        \n",
    "        for n in nums2:\n",
    "            if n in cnt and cnt[n] > 0:\n",
    "                result.append(n)\n",
    "                cnt[n] -= 1\n",
    "                \n",
    "        return result"
   ]
  },
  {
   "cell_type": "code",
   "execution_count": null,
   "metadata": {},
   "outputs": [],
   "source": []
  }
 ],
 "metadata": {
  "kernelspec": {
   "display_name": "Python 3",
   "language": "python",
   "name": "python3"
  },
  "language_info": {
   "codemirror_mode": {
    "name": "ipython",
    "version": 3
   },
   "file_extension": ".py",
   "mimetype": "text/x-python",
   "name": "python",
   "nbconvert_exporter": "python",
   "pygments_lexer": "ipython3",
   "version": "3.9.12"
  }
 },
 "nbformat": 4,
 "nbformat_minor": 4
}
