{
 "cells": [
  {
   "cell_type": "code",
   "execution_count": 27,
   "metadata": {},
   "outputs": [],
   "source": [
    "#User function Template for python3\n",
    "\n",
    "# [4, 5, 2, 25]\n",
    "# [ 25, 25 ]\n",
    "\n",
    "#  stack [2, 25] \n",
    "\n",
    "\n",
    "class Solution:\n",
    "    def nextLargerElement(self,arr,n):\n",
    "        #code here\n",
    "        stack = []\n",
    "                \n",
    "        next_largest_elems = len(arr) * [None]\n",
    "        for i in reversed(range(0, len(arr))): # reverse iteration\n",
    "            found = False\n",
    "            current = arr[i]\n",
    "            while not found:                \n",
    "                if len(stack) == 0:\n",
    "#                     print(\"stack is empty {} is not smaller than anything! {}\".format(current, stack))\n",
    "                    next_largest_elems[i] = -1\n",
    "                    found = True\n",
    "                elif current < stack[-1]:\n",
    "#                     print(\"<comparing {} vs {}\".format(current, stack[-1]))\n",
    "                    next_largest_elems[i] = stack[-1]\n",
    "                    found = True\n",
    "                elif current > stack[-1]:\n",
    "#                     print(\">comparing {} vs {}\".format(current, stack[-1]))\n",
    "                    stack.pop()\n",
    "\n",
    "\n",
    "                \n",
    "            stack.append(arr[i])\n",
    "#             print(\"-\"*10)\n",
    "#             print(stack)\n",
    "#             print(next_largest_elems)\n",
    "            \n",
    "        return next_largest_elems\n"
   ]
  },
  {
   "cell_type": "code",
   "execution_count": 28,
   "metadata": {},
   "outputs": [
    {
     "name": "stdout",
     "output_type": "stream",
     "text": [
      "stack is empty 25 is not smaller than anything! []\n",
      "----------\n",
      "[25]\n",
      "[None, None, None, -1]\n",
      "<comparing 2 vs 25\n",
      "----------\n",
      "[25, 2]\n",
      "[None, None, 25, -1]\n",
      ">comparing 5 vs 2\n",
      "<comparing 5 vs 25\n",
      "----------\n",
      "[25, 5]\n",
      "[None, 25, 25, -1]\n",
      "<comparing 4 vs 5\n",
      "----------\n",
      "[25, 5, 4]\n",
      "[5, 25, 25, -1]\n"
     ]
    },
    {
     "data": {
      "text/plain": [
       "[5, 25, 25, -1]"
      ]
     },
     "execution_count": 28,
     "metadata": {},
     "output_type": "execute_result"
    }
   ],
   "source": [
    "s = Solution()\n",
    "s.nextLargerElement([4, 5, 2, 25], 4)"
   ]
  },
  {
   "cell_type": "code",
   "execution_count": null,
   "metadata": {},
   "outputs": [],
   "source": []
  }
 ],
 "metadata": {
  "kernelspec": {
   "display_name": "Python 3",
   "language": "python",
   "name": "python3"
  },
  "language_info": {
   "codemirror_mode": {
    "name": "ipython",
    "version": 3
   },
   "file_extension": ".py",
   "mimetype": "text/x-python",
   "name": "python",
   "nbconvert_exporter": "python",
   "pygments_lexer": "ipython3",
   "version": "3.9.12"
  }
 },
 "nbformat": 4,
 "nbformat_minor": 4
}
