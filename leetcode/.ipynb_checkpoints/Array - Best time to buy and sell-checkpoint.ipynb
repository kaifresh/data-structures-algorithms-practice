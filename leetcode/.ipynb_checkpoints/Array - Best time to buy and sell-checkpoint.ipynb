{
 "cells": [
  {
   "cell_type": "markdown",
   "metadata": {},
   "source": [
    "# [Buy and sell](https://leetcode.com/explore/interview/card/top-interview-questions-easy/92/array/564/)\n",
    "You are given an integer array prices where prices[i] is the price of a given stock on the ith day.\n",
    "\n",
    "On each day, you may decide to buy and/or sell the stock. You can only hold at most one share of the stock at any time. However, you can buy it then immediately sell it on the same day.\n",
    "\n",
    "Find and return the maximum profit you can achieve.\n",
    "\n",
    "```\n",
    "Input: prices = [7,1,5,3,6,4]\n",
    "Output: 7\n",
    "Explanation: Buy on day 2 (price = 1) and sell on day 3 (price = 5), profit = 5-1 = 4.\n",
    "Then buy on day 4 (price = 3) and sell on day 5 (price = 6), profit = 6-3 = 3.\n",
    "Total profit is 4 + 3 = 7.\n",
    "\n",
    "```"
   ]
  },
  {
   "cell_type": "code",
   "execution_count": 2,
   "metadata": {},
   "outputs": [],
   "source": [
    "prices = [7,1,5,3,6,4]"
   ]
  },
  {
   "cell_type": "markdown",
   "metadata": {},
   "source": [
    "This feel like an optimisation problem so im going to try and use dynamic programming.\n",
    "\n",
    "The variables/how many variables do i need\n",
    "* position\n",
    "* max value\n",
    "* last best for this number\n",
    "\n",
    "The recurrence\n",
    "* buy or sell\n",
    "\n",
    "\n",
    "how many v"
   ]
  },
  {
   "cell_type": "code",
   "execution_count": 22,
   "metadata": {},
   "outputs": [],
   "source": [
    "from pprint import pprint"
   ]
  },
  {
   "cell_type": "code",
   "execution_count": 27,
   "metadata": {},
   "outputs": [
    {
     "name": "stdout",
     "output_type": "stream",
     "text": [
      "0 0 0\n",
      "0 1 -6\n",
      "0 2 -2\n",
      "0 3 -4\n",
      "0 4 -1\n",
      "0 5 -3\n",
      "1 1 0\n",
      "1 2 4\n",
      "1 3 2\n",
      "1 4 5\n",
      "1 5 3\n",
      "2 2 0\n",
      "2 3 -2\n",
      "2 4 1\n",
      "2 5 -1\n",
      "3 3 0\n",
      "3 4 3\n",
      "3 5 1\n",
      "4 4 0\n",
      "4 5 -2\n",
      "5 5 0\n"
     ]
    }
   ],
   "source": [
    "matrix = []\n",
    "\n",
    "for buy_on_day in range(len(prices)):\n",
    "    matrix.append([])\n",
    "    for sell_on_day in range(buy_on_day, len(prices)):\n",
    "        buy_price = prices[buy_on_day]\n",
    "        sell_price = prices[sell_on_day]\n",
    "        matrix[-1].append([buy_on_day, sell_on_day, sell_price - buy_price])\n",
    "        print(buy_on_day, sell_on_day, sell_price - buy_price)\n",
    "        \n"
   ]
  },
  {
   "cell_type": "code",
   "execution_count": 28,
   "metadata": {},
   "outputs": [
    {
     "name": "stdout",
     "output_type": "stream",
     "text": [
      "[[[0, 0, 0], [0, 1, -6], [0, 2, -2], [0, 3, -4], [0, 4, -1], [0, 5, -3]],\n",
      " [[1, 1, 0], [1, 2, 4], [1, 3, 2], [1, 4, 5], [1, 5, 3]],\n",
      " [[2, 2, 0], [2, 3, -2], [2, 4, 1], [2, 5, -1]],\n",
      " [[3, 3, 0], [3, 4, 3], [3, 5, 1]],\n",
      " [[4, 4, 0], [4, 5, -2]],\n",
      " [[5, 5, 0]]]\n"
     ]
    }
   ],
   "source": [
    "pprint(matrix)"
   ]
  },
  {
   "cell_type": "code",
   "execution_count": 26,
   "metadata": {},
   "outputs": [
    {
     "name": "stdout",
     "output_type": "stream",
     "text": [
      "0 [0, 0, 0]\n",
      "1 [0, 1, -6]\n",
      "2 [0, 2, -2]\n",
      "3 [0, 3, -4]\n",
      "4 [0, 4, -1]\n",
      "5 [0, 5, -3]\n",
      "6 [1, 1, 0]\n",
      "7 [1, 2, 4]\n",
      "8 [1, 3, 2]\n",
      "9 [1, 4, 5]\n",
      "10 [1, 5, 3]\n",
      "11 [2, 2, 0]\n",
      "12 [2, 3, -2]\n",
      "13 [2, 4, 1]\n",
      "14 [2, 5, -1]\n",
      "15 [3, 3, 0]\n",
      "16 [3, 4, 3]\n",
      "17 [3, 5, 1]\n",
      "18 [4, 4, 0]\n",
      "19 [4, 5, -2]\n",
      "20 [5, 5, 0]\n"
     ]
    }
   ],
   "source": [
    "for i, day in len(prices):\n",
    "    print(i, day)"
   ]
  },
  {
   "cell_type": "code",
   "execution_count": null,
   "metadata": {},
   "outputs": [],
   "source": []
  }
 ],
 "metadata": {
  "kernelspec": {
   "display_name": "Python 3",
   "language": "python",
   "name": "python3"
  },
  "language_info": {
   "codemirror_mode": {
    "name": "ipython",
    "version": 3
   },
   "file_extension": ".py",
   "mimetype": "text/x-python",
   "name": "python",
   "nbconvert_exporter": "python",
   "pygments_lexer": "ipython3",
   "version": "3.9.12"
  }
 },
 "nbformat": 4,
 "nbformat_minor": 4
}
