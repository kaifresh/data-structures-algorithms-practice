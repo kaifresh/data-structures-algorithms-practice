{
 "cells": [
  {
   "cell_type": "markdown",
   "metadata": {},
   "source": [
    "# [911. Online Election](https://leetcode.com/problems/online-election/)\n",
    "\n",
    "You are given two integer arrays persons and times. In an election, the ith vote was cast for persons[i] at time times[i].\n",
    "\n",
    "For each query at a time t, find the person that was leading the election at time t. Votes cast at time t will count towards our query. In the case of a tie, the most recent vote (among tied candidates) wins.\n",
    "\n",
    "Implement the TopVotedCandidate class:\n",
    "\n",
    "* `TopVotedCandidate(int[] persons, int[] times)` Initializes the object with the persons and times arrays.\n",
    "* `int q(int t)` Returns the number of the person that was leading the election at time t according to the mentioned rules.\n",
    " "
   ]
  },
  {
   "cell_type": "code",
   "execution_count": 1,
   "metadata": {},
   "outputs": [],
   "source": [
    "from typing import List"
   ]
  },
  {
   "cell_type": "code",
   "execution_count": 2,
   "metadata": {},
   "outputs": [],
   "source": [
    "class TopVotedCandidate:\n",
    "\n",
    "    def __init__(self, persons: List[int], times: List[int]):\n",
    "        pass\n",
    "\n",
    "    def q(self, t: int) -> int:\n",
    "        pass\n",
    "\n",
    "\n",
    "# Your TopVotedCandidate object will be instantiated and called as such:\n",
    "# obj = TopVotedCandidate(persons, times)\n",
    "# param_1 = obj.q(t)"
   ]
  },
  {
   "cell_type": "code",
   "execution_count": null,
   "metadata": {},
   "outputs": [],
   "source": [
    "persons \n",
    "\"\"\"\n",
    "[\"TopVotedCandidate\",\"q\",\"q\",\"q\",\"q\",\"q\",\"q\"]\n",
    "[[[0,1,1,0,0,1,0],[0,5,10,15,20,25,30]],[3],[12],[25],[15],[24],[8]]\n",
    "\"\"\"\n",
    "\n",
    "s = TopVotedCandidate()\n"
   ]
  }
 ],
 "metadata": {
  "kernelspec": {
   "display_name": "Python 3",
   "language": "python",
   "name": "python3"
  },
  "language_info": {
   "codemirror_mode": {
    "name": "ipython",
    "version": 3
   },
   "file_extension": ".py",
   "mimetype": "text/x-python",
   "name": "python",
   "nbconvert_exporter": "python",
   "pygments_lexer": "ipython3",
   "version": "3.9.12"
  }
 },
 "nbformat": 4,
 "nbformat_minor": 4
}
