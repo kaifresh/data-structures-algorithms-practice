{
 "cells": [
  {
   "cell_type": "code",
   "execution_count": 6,
   "metadata": {},
   "outputs": [],
   "source": [
    "from typing import List, Optional"
   ]
  },
  {
   "cell_type": "markdown",
   "metadata": {},
   "source": [
    "# [Reverse a linked list](https://leetcode.com/explore/interview/card/top-interview-questions-easy/93/linked-list/560/)\n",
    "\n",
    "This one is ok to think through. The insight is that you need 3 pointers to always maintain a connection the pre/current/next adjacent linked list members"
   ]
  },
  {
   "cell_type": "code",
   "execution_count": 7,
   "metadata": {},
   "outputs": [],
   "source": [
    "class ListNode:\n",
    "    def __init__(self, val=0, next=None):\n",
    "        self.val = val\n",
    "        self.next = next"
   ]
  },
  {
   "cell_type": "code",
   "execution_count": 10,
   "metadata": {},
   "outputs": [],
   "source": [
    "# Definition for singly-linked list.\n",
    "# class ListNode:\n",
    "#     def __init__(self, val=0, next=None):\n",
    "#         self.val = val\n",
    "#         self.next = next\n",
    "class Solution:\n",
    "    def reverseList(self, head: Optional[ListNode]) -> Optional[ListNode]:\n",
    "        if head == None or head.next == None: \n",
    "            return head\n",
    "        \n",
    "        # THIS IS THE CRUCIAL BIT\n",
    "        current = head\n",
    "        prev = None\n",
    "        nxt = None\n",
    "        \n",
    "        while current.next:\n",
    "            # Update the links\n",
    "            nxt = current.next # store next before you orphan it, so you dont lose it\n",
    "            current.next = prev # reverse the link\n",
    "            \n",
    "            # Get ready for the next round and move hte pointers forward\n",
    "            prev = current\n",
    "            current = nxt\n",
    "        \n",
    "        current.next = prev\n",
    "        print(current)\n",
    "        return current\n"
   ]
  },
  {
   "cell_type": "code",
   "execution_count": null,
   "metadata": {},
   "outputs": [],
   "source": []
  }
 ],
 "metadata": {
  "kernelspec": {
   "display_name": "Python 3",
   "language": "python",
   "name": "python3"
  },
  "language_info": {
   "codemirror_mode": {
    "name": "ipython",
    "version": 3
   },
   "file_extension": ".py",
   "mimetype": "text/x-python",
   "name": "python",
   "nbconvert_exporter": "python",
   "pygments_lexer": "ipython3",
   "version": "3.9.12"
  }
 },
 "nbformat": 4,
 "nbformat_minor": 4
}
