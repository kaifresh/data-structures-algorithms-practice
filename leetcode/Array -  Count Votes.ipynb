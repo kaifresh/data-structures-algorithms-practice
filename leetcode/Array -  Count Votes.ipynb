{
 "cells": [
  {
   "cell_type": "code",
   "execution_count": 2,
   "metadata": {},
   "outputs": [],
   "source": [
    "def solution(votes):\n",
    "    count = {v: [0] * len(votes[0]) + [v] for v in votes[0]}\n",
    "    for vote in votes:\n",
    "        for i, v in enumerate(vote):\n",
    "            count[v][i] -= 1\n",
    "    return ''.join(sorted(votes[0], key=count.get))"
   ]
  },
  {
   "cell_type": "code",
   "execution_count": 3,
   "metadata": {},
   "outputs": [
    {
     "ename": "SyntaxError",
     "evalue": "invalid syntax (<ipython-input-3-4238d0f6a07f>, line 1)",
     "output_type": "error",
     "traceback": [
      "\u001b[0;36m  File \u001b[0;32m\"<ipython-input-3-4238d0f6a07f>\"\u001b[0;36m, line \u001b[0;32m1\u001b[0m\n\u001b[0;31m    votes =\u001b[0m\n\u001b[0m            ^\u001b[0m\n\u001b[0;31mSyntaxError\u001b[0m\u001b[0;31m:\u001b[0m invalid syntax\n"
     ]
    }
   ],
   "source": [
    "votes = "
   ]
  },
  {
   "cell_type": "code",
   "execution_count": 28,
   "metadata": {},
   "outputs": [],
   "source": [
    "from collections import defaultdict\n",
    "from pprint import pprint as pp\n",
    "class Solution:\n",
    "    def rankTeams(self, votes):\n",
    "        \"\"\"\n",
    "        start: 20:39\n",
    "        \n",
    "        Example:\n",
    "            [\"AB\", \"BA\", \"BA\"]\n",
    "              A     B     B\n",
    "            A- 1\n",
    "            B -2\n",
    "            B wins, then A\n",
    "        \n",
    "        Example 2:\n",
    "            [\"ABC\", \"ABC\", \"BAC\", \"BAC\"]\n",
    "            A-2\n",
    "            B-2\n",
    "            tie\n",
    "            A-2.1,2.2\n",
    "            B-2.1,2.2\n",
    "            C-4.3\n",
    "            ABC\n",
    "        \n",
    "        Example 3:\n",
    "            [\"ACB\", \"ACB\", \"BCA\", \"BCA\"]\n",
    "            A-1.2,2.0,3.2\n",
    "            B-1.2,2.0,3.2\n",
    "            C-1.0,2.2,3.0\n",
    "            \n",
    "        Example 3:\n",
    "            [\"WXYZ\",\"XYZW\"]\n",
    "            \n",
    "            X-1100 12 = 4^4*1+4^3*1 = \n",
    "            W-1001 9 = 4^4*1+4^0*1 = \n",
    "            Y-0110 6 = 4^2*1+4^1*1 = \n",
    "            Z-0011 3\n",
    "            \n",
    "        Approach 1:\n",
    "            build a 'score' for each item\n",
    "            scores = defaultdict(lambda: [0]*n)\n",
    "            for each vote\n",
    "                for each vote and position:\n",
    "                    scores[vote][n-position] += 1 -> last position to be n^1 and max to be n^(n)\n",
    "            sort dict by scores and take vote\n",
    "            build string\n",
    "            return string\n",
    "            \n",
    "        O(v*c)\n",
    "        O(c^2) space\n",
    "            \n",
    "        \"\"\"\n",
    "        candidate_count = len(votes[0])\n",
    "        scores = defaultdict(lambda: [0]*candidate_count)\n",
    "        for vote in votes:\n",
    "            print(\"processing vote: {}\".format(vote))\n",
    "            for position, candidate in enumerate(vote):\n",
    "                # a vote means you should be prioritised\n",
    "                # the sort below sorts in ascending order so\n",
    "                # votes should make the score lower.\n",
    "                scores[candidate][position] -= 1\n",
    "                print(candidate, position, scores[candidate][position])\n",
    "        sorted_pairs = sorted([(score, candidate) for candidate, score in scores.items()])\n",
    "        print(scores.items())\n",
    "        print(sorted_pairs)\n",
    "        return \"\".join([candidate for _, candidate in sorted_pairs])"
   ]
  },
  {
   "cell_type": "code",
   "execution_count": 29,
   "metadata": {},
   "outputs": [
    {
     "name": "stdout",
     "output_type": "stream",
     "text": [
      "processing vote: ACB\n",
      "A 0 -1\n",
      "C 1 -1\n",
      "B 2 -1\n",
      "processing vote: ACB\n",
      "A 0 -2\n",
      "C 1 -2\n",
      "B 2 -2\n",
      "processing vote: BCA\n",
      "B 0 -1\n",
      "C 1 -3\n",
      "A 2 -1\n",
      "processing vote: BCA\n",
      "B 0 -2\n",
      "C 1 -4\n",
      "A 2 -2\n",
      "dict_items([('A', [-2, 0, -2]), ('C', [0, -4, 0]), ('B', [-2, 0, -2])])\n",
      "[([-2, 0, -2], 'A'), ([-2, 0, -2], 'B'), ([0, -4, 0], 'C')]\n"
     ]
    },
    {
     "data": {
      "text/plain": [
       "'ABC'"
      ]
     },
     "execution_count": 29,
     "metadata": {},
     "output_type": "execute_result"
    }
   ],
   "source": [
    "s = Solution()\n",
    "s.rankTeams([\"ACB\", \"ACB\", \"BCA\", \"BCA\"])"
   ]
  },
  {
   "cell_type": "code",
   "execution_count": null,
   "metadata": {},
   "outputs": [],
   "source": []
  }
 ],
 "metadata": {
  "kernelspec": {
   "display_name": "Python 3",
   "language": "python",
   "name": "python3"
  },
  "language_info": {
   "codemirror_mode": {
    "name": "ipython",
    "version": 3
   },
   "file_extension": ".py",
   "mimetype": "text/x-python",
   "name": "python",
   "nbconvert_exporter": "python",
   "pygments_lexer": "ipython3",
   "version": "3.9.12"
  }
 },
 "nbformat": 4,
 "nbformat_minor": 4
}
