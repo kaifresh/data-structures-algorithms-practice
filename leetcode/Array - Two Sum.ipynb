{
 "cells": [
  {
   "cell_type": "markdown",
   "metadata": {},
   "source": [
    "# [Two Sum](https://leetcode.com/explore/interview/card/top-interview-questions-easy/92/array/546/)\n",
    "\n",
    "Given an array of integers `nums` and an integer `target`, return indices of the two numbers such that they add up to target.\n",
    "\n",
    "You may assume that each input would have exactly one solution, and you may not use the same element twice.\n",
    "\n",
    "You can return the answer in any order.\n",
    "\n",
    "---\n",
    "\n",
    "```\n",
    "Input: nums = [2,7,11,15], target = 9\n",
    "Output: [0,1]\n",
    "Explanation: Because nums[0] + nums[1] == 9, we return [0, 1].\n",
    "```\n",
    "---\n",
    "\n",
    "```\n",
    "Input: nums = [3,2,4], target = 6\n",
    "Output: [1,2]\n",
    "```"
   ]
  },
  {
   "cell_type": "code",
   "execution_count": 4,
   "metadata": {},
   "outputs": [],
   "source": [
    "from typing import List"
   ]
  },
  {
   "cell_type": "code",
   "execution_count": 5,
   "metadata": {},
   "outputs": [],
   "source": [
    "class Solution:\n",
    "    def twoSum(self, nums: List[int], target: int) -> List[int]:\n",
    "        for i in range(len(nums)):\n",
    "            for j in range(i+1, len(nums)):\n",
    "                if i == j:\n",
    "                    continue\n",
    "                if nums[i] + nums[j] == target:\n",
    "                    return [i,j]\n",
    "        \n",
    "        return []"
   ]
  },
  {
   "cell_type": "markdown",
   "metadata": {},
   "source": [
    "# Better solution!\n",
    "\n",
    "The idea: can we use maths to know the answer instead of having to search for it?\n",
    "\n",
    "Do it in a single pass. \n",
    "\n",
    "You can use maths to know what your target number should be.\n",
    "\n",
    "x = y + b\n",
    "\n",
    "therefore\n",
    "\n",
    "b = y - x.\n",
    "\n",
    "Which means, for each number you know the other number you're looking out for. \n",
    "\n",
    "So, just cache the numbers you've seen and if that number's \"pair\" shows up later, you're done!"
   ]
  },
  {
   "cell_type": "code",
   "execution_count": 6,
   "metadata": {},
   "outputs": [],
   "source": [
    "class Solution:\n",
    "    def twoSum(self, nums: List[int], target: int) -> List[int]:\n",
    "        diff = {}\n",
    "        for idx in range(len(nums)):\n",
    "            num = nums[idx]\n",
    "            if target - nums[idx] in diff:\n",
    "                return [idx, diff[target - nums[idx]]]\n",
    "            diff[nums[idx]] = idx\n",
    "        return [-1,-1]\n",
    "        \n",
    "#         for i in range(len("
   ]
  },
  {
   "cell_type": "code",
   "execution_count": null,
   "metadata": {},
   "outputs": [],
   "source": []
  }
 ],
 "metadata": {
  "kernelspec": {
   "display_name": "Python 3",
   "language": "python",
   "name": "python3"
  },
  "language_info": {
   "codemirror_mode": {
    "name": "ipython",
    "version": 3
   },
   "file_extension": ".py",
   "mimetype": "text/x-python",
   "name": "python",
   "nbconvert_exporter": "python",
   "pygments_lexer": "ipython3",
   "version": "3.9.12"
  }
 },
 "nbformat": 4,
 "nbformat_minor": 4
}
